{
 "cells": [
  {
   "cell_type": "code",
   "execution_count": 56,
   "id": "ebdfb88f-9bcf-45b3-8fd2-635007ce5038",
   "metadata": {},
   "outputs": [],
   "source": [
    "import matplotlib.pyplot as plt\n",
    "import numpy as np\n",
    "import pickle\n",
    "import pandas as pd"
   ]
  },
  {
   "cell_type": "markdown",
   "id": "1c6eb0bb-b66a-4af7-be8d-53be51033b39",
   "metadata": {},
   "source": [
    "### Opening MIP file"
   ]
  },
  {
   "cell_type": "code",
   "execution_count": 57,
   "id": "9e694f8f-de40-4ccc-a2c3-e202d01d8cd6",
   "metadata": {},
   "outputs": [],
   "source": [
    "MIP_pickle_file = \"./COSMIC_LG50_HG50_4k_R1.pkl\" # An example MIP file\n",
    "MIP_df = pd.read_pickle(f\"{MIP_pickle_file}\")"
   ]
  },
  {
   "cell_type": "code",
   "execution_count": 58,
   "id": "45b561c1-3afb-478f-86e3-65b4a84594f5",
   "metadata": {},
   "outputs": [],
   "source": [
    "# Number of CAEN units = 6, each has 64 channels\n",
    "CAEN_numbers = np.arange(6)\n",
    "channel_numbers = np.arange(64)"
   ]
  },
  {
   "cell_type": "markdown",
   "id": "ad482776-402d-4e72-aed2-6ea3553e63ac",
   "metadata": {},
   "source": [
    "#### Don't yet have the pedestal information but we'll set up a placeheolder pedestal dataframe for now"
   ]
  },
  {
   "cell_type": "code",
   "execution_count": 62,
   "id": "97884f2d-f837-44f1-a3d6-5a39d5ea8c1b",
   "metadata": {},
   "outputs": [],
   "source": [
    "pedestal_example = {}\n",
    "for CAEN in CAEN_numbers:\n",
    "    for channel in channel_numbers:\n",
    "        column_name = f\"{CAEN}-{channel}\"\n",
    "        HG_mean, HG_sigma = 0, 0\n",
    "        LG_mean, LG_sigma = 0, 0\n",
    "        channel_dict = {\n",
    "            \"HG\":{\"m\":HG_mean, \"s\":HG_sigma},\n",
    "            \"LG\":{\"m\":LG_mean, \"s\":LG_sigma}\n",
    "        }\n",
    "        pedestal_example[column_name] = channel_dict\n",
    "pedestal_df = pd.DataFrame(pedestal_example)"
   ]
  },
  {
   "cell_type": "code",
   "execution_count": 64,
   "id": "39cfa088-aa38-42ae-89e8-b46456d9ef86",
   "metadata": {},
   "outputs": [
    {
     "data": {
      "text/html": [
       "<div>\n",
       "<style scoped>\n",
       "    .dataframe tbody tr th:only-of-type {\n",
       "        vertical-align: middle;\n",
       "    }\n",
       "\n",
       "    .dataframe tbody tr th {\n",
       "        vertical-align: top;\n",
       "    }\n",
       "\n",
       "    .dataframe thead th {\n",
       "        text-align: right;\n",
       "    }\n",
       "</style>\n",
       "<table border=\"1\" class=\"dataframe\">\n",
       "  <thead>\n",
       "    <tr style=\"text-align: right;\">\n",
       "      <th></th>\n",
       "      <th>0-0</th>\n",
       "      <th>0-1</th>\n",
       "      <th>0-2</th>\n",
       "      <th>0-3</th>\n",
       "      <th>0-4</th>\n",
       "      <th>0-5</th>\n",
       "      <th>0-6</th>\n",
       "      <th>0-7</th>\n",
       "      <th>0-8</th>\n",
       "      <th>0-9</th>\n",
       "      <th>...</th>\n",
       "      <th>5-54</th>\n",
       "      <th>5-55</th>\n",
       "      <th>5-56</th>\n",
       "      <th>5-57</th>\n",
       "      <th>5-58</th>\n",
       "      <th>5-59</th>\n",
       "      <th>5-60</th>\n",
       "      <th>5-61</th>\n",
       "      <th>5-62</th>\n",
       "      <th>5-63</th>\n",
       "    </tr>\n",
       "  </thead>\n",
       "  <tbody>\n",
       "    <tr>\n",
       "      <th>HG</th>\n",
       "      <td>{'m': 0, 's': 0}</td>\n",
       "      <td>{'m': 0, 's': 0}</td>\n",
       "      <td>{'m': 0, 's': 0}</td>\n",
       "      <td>{'m': 0, 's': 0}</td>\n",
       "      <td>{'m': 0, 's': 0}</td>\n",
       "      <td>{'m': 0, 's': 0}</td>\n",
       "      <td>{'m': 0, 's': 0}</td>\n",
       "      <td>{'m': 0, 's': 0}</td>\n",
       "      <td>{'m': 0, 's': 0}</td>\n",
       "      <td>{'m': 0, 's': 0}</td>\n",
       "      <td>...</td>\n",
       "      <td>{'m': 0, 's': 0}</td>\n",
       "      <td>{'m': 0, 's': 0}</td>\n",
       "      <td>{'m': 0, 's': 0}</td>\n",
       "      <td>{'m': 0, 's': 0}</td>\n",
       "      <td>{'m': 0, 's': 0}</td>\n",
       "      <td>{'m': 0, 's': 0}</td>\n",
       "      <td>{'m': 0, 's': 0}</td>\n",
       "      <td>{'m': 0, 's': 0}</td>\n",
       "      <td>{'m': 0, 's': 0}</td>\n",
       "      <td>{'m': 0, 's': 0}</td>\n",
       "    </tr>\n",
       "    <tr>\n",
       "      <th>LG</th>\n",
       "      <td>{'m': 0, 's': 0}</td>\n",
       "      <td>{'m': 0, 's': 0}</td>\n",
       "      <td>{'m': 0, 's': 0}</td>\n",
       "      <td>{'m': 0, 's': 0}</td>\n",
       "      <td>{'m': 0, 's': 0}</td>\n",
       "      <td>{'m': 0, 's': 0}</td>\n",
       "      <td>{'m': 0, 's': 0}</td>\n",
       "      <td>{'m': 0, 's': 0}</td>\n",
       "      <td>{'m': 0, 's': 0}</td>\n",
       "      <td>{'m': 0, 's': 0}</td>\n",
       "      <td>...</td>\n",
       "      <td>{'m': 0, 's': 0}</td>\n",
       "      <td>{'m': 0, 's': 0}</td>\n",
       "      <td>{'m': 0, 's': 0}</td>\n",
       "      <td>{'m': 0, 's': 0}</td>\n",
       "      <td>{'m': 0, 's': 0}</td>\n",
       "      <td>{'m': 0, 's': 0}</td>\n",
       "      <td>{'m': 0, 's': 0}</td>\n",
       "      <td>{'m': 0, 's': 0}</td>\n",
       "      <td>{'m': 0, 's': 0}</td>\n",
       "      <td>{'m': 0, 's': 0}</td>\n",
       "    </tr>\n",
       "  </tbody>\n",
       "</table>\n",
       "<p>2 rows × 384 columns</p>\n",
       "</div>"
      ],
      "text/plain": [
       "                 0-0               0-1               0-2               0-3  \\\n",
       "HG  {'m': 0, 's': 0}  {'m': 0, 's': 0}  {'m': 0, 's': 0}  {'m': 0, 's': 0}   \n",
       "LG  {'m': 0, 's': 0}  {'m': 0, 's': 0}  {'m': 0, 's': 0}  {'m': 0, 's': 0}   \n",
       "\n",
       "                 0-4               0-5               0-6               0-7  \\\n",
       "HG  {'m': 0, 's': 0}  {'m': 0, 's': 0}  {'m': 0, 's': 0}  {'m': 0, 's': 0}   \n",
       "LG  {'m': 0, 's': 0}  {'m': 0, 's': 0}  {'m': 0, 's': 0}  {'m': 0, 's': 0}   \n",
       "\n",
       "                 0-8               0-9  ...              5-54  \\\n",
       "HG  {'m': 0, 's': 0}  {'m': 0, 's': 0}  ...  {'m': 0, 's': 0}   \n",
       "LG  {'m': 0, 's': 0}  {'m': 0, 's': 0}  ...  {'m': 0, 's': 0}   \n",
       "\n",
       "                5-55              5-56              5-57              5-58  \\\n",
       "HG  {'m': 0, 's': 0}  {'m': 0, 's': 0}  {'m': 0, 's': 0}  {'m': 0, 's': 0}   \n",
       "LG  {'m': 0, 's': 0}  {'m': 0, 's': 0}  {'m': 0, 's': 0}  {'m': 0, 's': 0}   \n",
       "\n",
       "                5-59              5-60              5-61              5-62  \\\n",
       "HG  {'m': 0, 's': 0}  {'m': 0, 's': 0}  {'m': 0, 's': 0}  {'m': 0, 's': 0}   \n",
       "LG  {'m': 0, 's': 0}  {'m': 0, 's': 0}  {'m': 0, 's': 0}  {'m': 0, 's': 0}   \n",
       "\n",
       "                5-63  \n",
       "HG  {'m': 0, 's': 0}  \n",
       "LG  {'m': 0, 's': 0}  \n",
       "\n",
       "[2 rows x 384 columns]"
      ]
     },
     "execution_count": 64,
     "metadata": {},
     "output_type": "execute_result"
    }
   ],
   "source": [
    "pedestal_df"
   ]
  },
  {
   "cell_type": "code",
   "execution_count": 65,
   "id": "2955d8e0-bdc7-43ef-b63b-a2c7eed36765",
   "metadata": {},
   "outputs": [
    {
     "data": {
      "text/plain": [
       "0"
      ]
     },
     "execution_count": 65,
     "metadata": {},
     "output_type": "execute_result"
    }
   ],
   "source": [
    "# Can access the entries as df[\"CAEN#-Channel#\"][\"HG\"/\"LG\"][\"m\"/\"s\"] \n",
    "# HG = High gain, LG = low gain\n",
    "# m = mean, s = sigm\n",
    "pedestal_df[\"1-1\"][\"HG\"][\"m\"]"
   ]
  }
 ],
 "metadata": {
  "kernelspec": {
   "display_name": "Python 3 (ipykernel)",
   "language": "python",
   "name": "python3"
  },
  "language_info": {
   "codemirror_mode": {
    "name": "ipython",
    "version": 3
   },
   "file_extension": ".py",
   "mimetype": "text/x-python",
   "name": "python",
   "nbconvert_exporter": "python",
   "pygments_lexer": "ipython3",
   "version": "3.8.10"
  }
 },
 "nbformat": 4,
 "nbformat_minor": 5
}
