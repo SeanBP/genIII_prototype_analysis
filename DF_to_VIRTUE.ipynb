{
 "cells": [
  {
   "cell_type": "code",
   "execution_count": 1,
   "id": "e62e1af9",
   "metadata": {},
   "outputs": [],
   "source": [
    "import pickle\n",
    "import os\n",
    "import numpy as np\n",
    "import pandas as pd\n",
    "import json"
   ]
  },
  {
   "cell_type": "code",
   "execution_count": 2,
   "id": "8ceecd40",
   "metadata": {},
   "outputs": [],
   "source": [
    "df = pd.read_pickle(\"BNLCosmic4_DF.pkl\")"
   ]
  },
  {
   "cell_type": "code",
   "execution_count": 3,
   "id": "cd855476",
   "metadata": {},
   "outputs": [],
   "source": [
    "# Generate the header section\n",
    "header = {\n",
    "    \"version\": \"2.2.0\",\n",
    "    \"experiment\": f\"ZDC Prototype\",\n",
    "    \"energy_unit\": \"ADC\", # Select \"eV\", \"KeV\", \"MeV\", \"GeV\", or \"TeV\"\n",
    "    \"color_bar\": \"Lin\", # Select \"Lin\" or \"Log\"\n",
    "    \"length_unit\": \"cm\",\n",
    "    \"time_scale\": 10,\n",
    "    \"particles\": [\n",
    "        {\n",
    "        \"angle_rad\": [0.0 , 0.0],       \n",
    "        \"size\": float(10),\n",
    "        \"color_rgba\": [float(1), float(0), float(0), float(1)]\n",
    "        }\n",
    "    ],\n",
    "    \"tracker_settings\": {\n",
    "        \"B_field_T\": float(0),\n",
    "        \"tracker_boundary\": [float(1), float(1), float(1)]\n",
    "    }\n",
    "}\n",
    "\n",
    "# Main data structure\n",
    "data = {\n",
    "    \"header\": header,\n",
    "    \"events\": []\n",
    "}"
   ]
  },
  {
   "cell_type": "code",
   "execution_count": 4,
   "id": "a08692c3",
   "metadata": {},
   "outputs": [],
   "source": [
    "# Group the DataFrame by event number\n",
    "grouped = df.groupby('event')\n",
    "\n",
    "events = []\n",
    "maxE = df['HG'].max()  # or a manually set constant if needed\n",
    "\n",
    "for evt_num, group in grouped:\n",
    "    info_text = f\"Event #{evt_num}\"\n",
    "    event = {\n",
    "        \"event_data\": {\n",
    "            \"info_text\": info_text,\n",
    "            \"energy_scale\": [0, float(maxE)]\n",
    "        },\n",
    "        \"hits\": [],\n",
    "        \"clusters\": [],\n",
    "        \"tracks\": [],\n",
    "        \"jets\": [],\n",
    "        \"blocks\": []\n",
    "    }\n",
    "    \n",
    "    blocks = []\n",
    "    for _, row in group.iterrows():\n",
    "        energy = row['HG_ped_corr']\n",
    "        if energy <= 0:\n",
    "            continue  # skip zero or negative energies\n",
    "        \n",
    "        x, y, z = row['x'], row['y'], row['z']\n",
    "        normalized_energy = energy / maxE\n",
    "        red, green, blue, alpha = normalized_energy, 0, 1 - normalized_energy, normalized_energy\n",
    "        c = 299.792\n",
    "        time = z / c\n",
    "\n",
    "        block = {\n",
    "            \"position\": [float(x), float(y), float(z)],\n",
    "            \"time_ns\": float(time),\n",
    "            \"size\": [48.8, 48.8, 4],\n",
    "            \"color_rgba\": [float(red), float(green), float(blue), float(alpha)]\n",
    "        }\n",
    "        blocks.append(block)\n",
    "    \n",
    "    event[\"blocks\"] = blocks\n",
    "    events.append(event)\n",
    "\n",
    "# Final output dictionary\n",
    "data = {\n",
    "    \"header\": header,\n",
    "    \"events\": events\n",
    "}\n",
    "\n",
    "\n"
   ]
  },
  {
   "cell_type": "code",
   "execution_count": 6,
   "id": "9dad69b1",
   "metadata": {},
   "outputs": [],
   "source": [
    "eventPath = f'BNLCosmic4.json'\n",
    "with open(eventPath, 'w') as outfile:\n",
    "    json.dump(data, outfile, indent=4)"
   ]
  },
  {
   "cell_type": "code",
   "execution_count": null,
   "id": "084fbbda-636b-4d7d-9a5a-d8a2ff29beb7",
   "metadata": {},
   "outputs": [],
   "source": []
  }
 ],
 "metadata": {
  "kernelspec": {
   "display_name": "Python 3 (ipykernel)",
   "language": "python",
   "name": "python3"
  },
  "language_info": {
   "codemirror_mode": {
    "name": "ipython",
    "version": 3
   },
   "file_extension": ".py",
   "mimetype": "text/x-python",
   "name": "python",
   "nbconvert_exporter": "python",
   "pygments_lexer": "ipython3",
   "version": "3.12.7"
  }
 },
 "nbformat": 4,
 "nbformat_minor": 5
}
