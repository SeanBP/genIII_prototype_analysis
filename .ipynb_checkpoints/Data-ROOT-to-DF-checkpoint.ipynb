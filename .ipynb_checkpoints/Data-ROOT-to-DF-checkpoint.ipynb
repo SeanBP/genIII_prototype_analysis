{
 "cells": [
  {
   "cell_type": "code",
   "execution_count": 1,
   "id": "0bcaacf8",
   "metadata": {},
   "outputs": [],
   "source": [
    "import uproot as ur\n",
    "import numpy as np\n",
    "import pandas as pd\n",
    "import awkward as ak\n",
    "import pickle"
   ]
  },
  {
   "cell_type": "code",
   "execution_count": null,
   "id": "b1899273",
   "metadata": {},
   "outputs": [],
   "source": [
    "input_file = \"/Users/seanbp/Documents/Data/GenII_Prototype_Data/BNL/Run171.root\"\n",
    "\n",
    "events = ur.open(\"%s:raw\"%(input_file))"
   ]
  },
  {
   "cell_type": "code",
   "execution_count": 7,
   "id": "88c7200f",
   "metadata": {},
   "outputs": [
    {
     "name": "stdout",
     "output_type": "stream",
     "text": [
      "   event  channel    HG   LG  CAEN_brd  CAEN_ch\n",
      "0      0        0   304  128         0        0\n",
      "1      0        1   425  142         0        1\n",
      "2      0        2  1180  141         0        2\n",
      "3      0        3   769  203         0        3\n",
      "4      0        4   302  154         0        4\n"
     ]
    }
   ],
   "source": [
    "# Extract all channel keys\n",
    "channel_keys = [key for key in events.keys() if key.startswith(\"ch_\")]\n",
    "\n",
    "# Load all channels into an awkward array dict\n",
    "channels = {key: events[key].array(library=\"ak\") for key in channel_keys}\n",
    "\n",
    "# Create a list of awkward arrays for each channel with extra fields\n",
    "channel_arrays = []\n",
    "for key, arr in channels.items():\n",
    "    channel = int(key.split(\"_\")[1])\n",
    "    arr_with_fields = ak.zip({\n",
    "        \"event\": ak.local_index(arr),\n",
    "        \"channel\": channel,\n",
    "        \"HG\": arr[\"HG\"],\n",
    "        \"LG\": arr[\"LG\"],\n",
    "    })\n",
    "    channel_arrays.append(arr_with_fields)\n",
    "\n",
    "# Concatenate all channel arrays\n",
    "all_data = ak.concatenate(channel_arrays)\n",
    "\n",
    "# Convert to pandas DataFrame\n",
    "df = ak.to_dataframe(all_data).reset_index(drop=True)\n",
    "df = df.sort_values(by=[\"event\", \"channel\"]).reset_index(drop=True)\n",
    "df[\"CAEN_brd\"] = df[\"channel\"] // 64\n",
    "df[\"CAEN_ch\"] = df[\"channel\"] % 64\n",
    "\n",
    "print(df.head())\n"
   ]
  },
  {
   "cell_type": "code",
   "execution_count": 8,
   "id": "7f1fcd83",
   "metadata": {},
   "outputs": [],
   "source": [
    "with open('BNLCosmic3_DF.pkl', 'wb') as f:\n",
    "    pickle.dump(df, f)"
   ]
  },
  {
   "cell_type": "code",
   "execution_count": null,
   "id": "795742e7-9b2b-49d4-a0ca-2ffcf2fc4c6c",
   "metadata": {},
   "outputs": [],
   "source": []
  }
 ],
 "metadata": {
  "kernelspec": {
   "display_name": "Python 3 (ipykernel)",
   "language": "python",
   "name": "python3"
  },
  "language_info": {
   "codemirror_mode": {
    "name": "ipython",
    "version": 3
   },
   "file_extension": ".py",
   "mimetype": "text/x-python",
   "name": "python",
   "nbconvert_exporter": "python",
   "pygments_lexer": "ipython3",
   "version": "3.12.7"
  }
 },
 "nbformat": 4,
 "nbformat_minor": 5
}
