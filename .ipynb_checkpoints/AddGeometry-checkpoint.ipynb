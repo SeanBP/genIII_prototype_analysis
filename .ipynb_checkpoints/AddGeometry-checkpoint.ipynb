{
 "cells": [
  {
   "cell_type": "code",
   "execution_count": 2,
   "id": "1494113f",
   "metadata": {},
   "outputs": [],
   "source": [
    "import os\n",
    "import numpy as np\n",
    "import pandas as pd\n",
    "import matplotlib.pyplot as plt\n",
    "import mplhep as hep\n",
    "from iminuit import Minuit\n",
    "from iminuit.cost import LeastSquares\n",
    "import pickle\n",
    "import uproot as ur\n",
    "import re"
   ]
  },
  {
   "cell_type": "code",
   "execution_count": 4,
   "id": "e574e431",
   "metadata": {},
   "outputs": [],
   "source": [
    "raw_df = pd.read_pickle(\"Raw_DF.pkl\")\n",
    "geo_df = pd.read_pickle(\"geometry_DF.pkl\")"
   ]
  },
  {
   "cell_type": "code",
   "execution_count": 5,
   "id": "abb798fb",
   "metadata": {},
   "outputs": [],
   "source": [
    "# Merge on the 'channel' column\n",
    "merged_df = pd.merge(\n",
    "    raw_df,\n",
    "    geo_df[[\"channel\", \"x\", \"y\", \"z\", \"layer\", \"layer_ch\"]],\n",
    "    on=\"channel\",\n",
    "    how=\"left\"  # Keep all rows from raw_df\n",
    ")"
   ]
  },
  {
   "cell_type": "code",
   "execution_count": 7,
   "id": "29010d56",
   "metadata": {},
   "outputs": [
    {
     "name": "stdout",
     "output_type": "stream",
     "text": [
      "          event  channel   HG   LG  CAEN_brd  CAEN_ch      x      y        z  \\\n",
      "0             0        0  119  102         0        0  -85.4  -85.4    0.000   \n",
      "1             0        1  115  108         0        1  -36.6  -85.4    0.000   \n",
      "2             0        2  108   94         0        2   12.2  -85.4    0.000   \n",
      "3             0        3  140   98         0        3   61.0  -85.4    0.000   \n",
      "4             0        4  142  108         0        4  109.8  -85.4    0.000   \n",
      "...         ...      ...  ...  ...       ...      ...    ...    ...      ...   \n",
      "35068411  91323      379  100  101         5       59   12.2  109.8  379.568   \n",
      "35068412  91323      380   95   96         5       60   61.0  109.8  379.568   \n",
      "35068413  91323      381   77   95         5       61  109.8  109.8  379.568   \n",
      "35068414  91323      382   94  113         5       62    NaN    NaN      NaN   \n",
      "35068415  91323      383  102  103         5       63    NaN    NaN      NaN   \n",
      "\n",
      "          layer  layer_ch  \n",
      "0           0.0       0.0  \n",
      "1           0.0       1.0  \n",
      "2           0.0       2.0  \n",
      "3           0.0       3.0  \n",
      "4           0.0       4.0  \n",
      "...         ...       ...  \n",
      "35068411   14.0      22.0  \n",
      "35068412   14.0      23.0  \n",
      "35068413   14.0      24.0  \n",
      "35068414    NaN       NaN  \n",
      "35068415    NaN       NaN  \n",
      "\n",
      "[35068416 rows x 11 columns]\n"
     ]
    }
   ],
   "source": [
    "print(merged_df)"
   ]
  },
  {
   "cell_type": "code",
   "execution_count": null,
   "id": "1387ab7f",
   "metadata": {},
   "outputs": [],
   "source": []
  }
 ],
 "metadata": {
  "kernelspec": {
   "display_name": "Python 3.10 (myenv)",
   "language": "python",
   "name": "myenv"
  },
  "language_info": {
   "codemirror_mode": {
    "name": "ipython",
    "version": 3
   },
   "file_extension": ".py",
   "mimetype": "text/x-python",
   "name": "python",
   "nbconvert_exporter": "python",
   "pygments_lexer": "ipython3",
   "version": "3.7.6"
  }
 },
 "nbformat": 4,
 "nbformat_minor": 5
}
