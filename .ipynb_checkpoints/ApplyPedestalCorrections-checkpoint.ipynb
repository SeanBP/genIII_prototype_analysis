{
 "cells": [
  {
   "cell_type": "code",
   "execution_count": 1,
   "id": "92f2b12f",
   "metadata": {},
   "outputs": [],
   "source": [
    "import pickle\n",
    "import pandas as pd\n",
    "\n",
    "\n",
    "import numpy as np"
   ]
  },
  {
   "cell_type": "code",
   "execution_count": 2,
   "id": "69648e6f",
   "metadata": {},
   "outputs": [],
   "source": [
    "df = pd.read_pickle(\"Raw_DF.pkl\")\n",
    "\n",
    "\n",
    "ped_dict = pd.read_pickle(\"../../genIII_data/JLab/Ptrg/Ptrg1.pkl\")"
   ]
  },
  {
   "cell_type": "code",
   "execution_count": 3,
   "id": "ebe2d0d2",
   "metadata": {},
   "outputs": [
    {
     "name": "stdout",
     "output_type": "stream",
     "text": [
      "   channel   HG  HG_ped_corr   LG  LG_ped_corr\n",
      "0        0  119          0.0  102          0.0\n",
      "1        1  115          0.0  108          0.0\n",
      "2        2  108          0.0   94          0.0\n",
      "3        3  140          0.0   98          0.0\n",
      "4        4  142          0.0  108          0.0\n"
     ]
    }
   ],
   "source": [
    "ped_df = pd.DataFrame(ped_dict)\n",
    "\n",
    "# Add a channel column (if not already present in ped_df)\n",
    "ped_df[\"channel\"] = ped_df.index\n",
    "\n",
    "# Merge the pedestal data into the main dataframe on 'channel'\n",
    "df = pd.merge(df, ped_df, on=\"channel\", how=\"left\")\n",
    "\n",
    "# Compute pedestal-corrected HG and LG\n",
    "df[\"HG_ped_corr\"] = df[\"HG\"] - df[\"HGPedMean\"]\n",
    "df[\"LG_ped_corr\"] = df[\"LG\"] - df[\"LGPedMean\"]\n",
    "\n",
    "# Apply the 3-sigma cut: values < 3*sigma become 0\n",
    "df[\"LG_ped_corr\"] = df[\"LG_ped_corr\"].where(\n",
    "    df[\"LG_ped_corr\"] >= 3 * df[\"LGPedSigma\"], 0\n",
    ")\n",
    "\n",
    "# Optional: same for HG if needed\n",
    "df[\"HG_ped_corr\"] = df[\"HG_ped_corr\"].where(\n",
    "    df[\"HG_ped_corr\"] >= 3 * df[\"HGPedSigma\"], 0\n",
    ")\n",
    "\n",
    "print(df[[\"channel\", \"HG\", \"HG_ped_corr\", \"LG\", \"LG_ped_corr\"]].head())"
   ]
  },
  {
   "cell_type": "code",
   "execution_count": null,
   "id": "ae56ee48",
   "metadata": {},
   "outputs": [],
   "source": []
  }
 ],
 "metadata": {
  "kernelspec": {
   "display_name": "Python 3.10 (myenv)",
   "language": "python",
   "name": "myenv"
  },
  "language_info": {
   "codemirror_mode": {
    "name": "ipython",
    "version": 3
   },
   "file_extension": ".py",
   "mimetype": "text/x-python",
   "name": "python",
   "nbconvert_exporter": "python",
   "pygments_lexer": "ipython3",
   "version": "3.7.6"
  }
 },
 "nbformat": 4,
 "nbformat_minor": 5
}
