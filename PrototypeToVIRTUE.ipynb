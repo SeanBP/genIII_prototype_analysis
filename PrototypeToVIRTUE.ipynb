{
 "cells": [
  {
   "cell_type": "code",
   "execution_count": 15,
   "id": "7cce9222",
   "metadata": {},
   "outputs": [],
   "source": [
    "import pickle\n",
    "import os\n",
    "import numpy as np\n",
    "import pandas as pd\n",
    "import json"
   ]
  },
  {
   "cell_type": "code",
   "execution_count": 2,
   "id": "f882a1c1",
   "metadata": {},
   "outputs": [],
   "source": [
    "with open('../../genIII_data/JLab/Beam/Beam1_0-Cal.pkl', 'rb') as file:\n",
    "    # Load the data from the pickle file\n",
    "    din = pickle.load(file)\n",
    "e_cut = 0.3"
   ]
  },
  {
   "cell_type": "code",
   "execution_count": 5,
   "id": "6513b0d2",
   "metadata": {},
   "outputs": [],
   "source": [
    "evt_energy = []\n",
    "maxE = 0\n",
    "\n",
    "for evt_idx, event in enumerate(din):\n",
    "    energy = 0\n",
    "    for e, x, y, z in event:\n",
    "        if e > 0.3:\n",
    "            if e > maxE:\n",
    "                maxE = e\n",
    "            energy += e\n",
    "    evt_energy.append(energy)"
   ]
  },
  {
   "cell_type": "code",
   "execution_count": 29,
   "id": "800d040d",
   "metadata": {},
   "outputs": [],
   "source": [
    "# Generate the header section\n",
    "header = {\n",
    "    \"version\": \"2.2.0\",\n",
    "    \"experiment\": f\"ZDC Prototype\",\n",
    "    \"energy_unit\": \"MIP\", # Select \"eV\", \"KeV\", \"MeV\", \"GeV\", or \"TeV\"\n",
    "    \"color_bar\": \"Log\", # Select \"Lin\" or \"Log\"\n",
    "    \"length_unit\": \"cm\",\n",
    "    \"time_scale\": 10,\n",
    "    \"particles\": [\n",
    "        {\n",
    "        \"angle_rad\": [0.0 , 0.0],       \n",
    "        \"size\": float(10),\n",
    "        \"color_rgba\": [float(1), float(0), float(0), float(1)]\n",
    "        }\n",
    "    ],\n",
    "    \"tracker_settings\": {\n",
    "        \"B_field_T\": float(0),\n",
    "        \"tracker_boundary\": [float(1), float(1), float(1)]\n",
    "    }\n",
    "}\n",
    "\n",
    "# Main data structure\n",
    "data = {\n",
    "    \"header\": header,\n",
    "    \"events\": []\n",
    "}"
   ]
  },
  {
   "cell_type": "code",
   "execution_count": 30,
   "id": "662dbf95",
   "metadata": {},
   "outputs": [],
   "source": [
    "indices = [i for i, energy in enumerate(evt_energy) if energy > 50]\n",
    "events = []\n",
    "\n",
    "for i in indices[0:100]:\n",
    "    \n",
    "    info_text = f\"Event #{i}\"\n",
    "    event = {\n",
    "        \"event_data\": {\n",
    "            \"info_text\": info_text,\n",
    "            \"energy_scale\": [0.3, maxE]\n",
    "        },\n",
    "        \"hits\": [],\n",
    "        \"clusters\": [],\n",
    "        \"tracks\": [],\n",
    "        \"jets\": [],\n",
    "        \"blocks\":[]\n",
    "    }\n",
    "    blocks = []\n",
    "    for j in range(len(din[i])):\n",
    "        \n",
    "        energy = din[i][j][0]\n",
    "        x = din[i][j][1]\n",
    "        y = din[i][j][2]\n",
    "        z = din[i][j][3]\n",
    "            \n",
    "        normalized_energy = np.log(energy / 0.3) / np.log(maxE / 0.3) if energy > 0.3 else 0\n",
    "\n",
    "        red, green, blue, alpha = normalized_energy, 0, 1-normalized_energy, normalized_energy\n",
    "\n",
    "        c = 299.792\n",
    "        time = z / c\n",
    "            \n",
    "        block = {\n",
    "                \"position\":[float(x), float(y), float(z)],\n",
    "                \"time_ns\": float(time),\n",
    "                \"size\": [float(48.8), float(48.8), float(4)],\n",
    "                \"color_rgba\": [float(red), float(green), float(blue), float(alpha)]\n",
    "            }\n",
    "        blocks.append(block)\n",
    "        \n",
    "    event[\"blocks\"] = blocks\n",
    "    \n",
    "        \n",
    "    events.append(event)\n",
    "    \n",
    "data[\"events\"] = events"
   ]
  },
  {
   "cell_type": "code",
   "execution_count": 31,
   "id": "e7f00ccd",
   "metadata": {},
   "outputs": [],
   "source": [
    "eventPath = f'ZDCPrototype.json'\n",
    "with open(eventPath, 'w') as outfile:\n",
    "    json.dump(data, outfile, indent=4)"
   ]
  },
  {
   "cell_type": "code",
   "execution_count": null,
   "id": "47a9ae09",
   "metadata": {},
   "outputs": [],
   "source": []
  }
 ],
 "metadata": {
  "kernelspec": {
   "display_name": "Python 3.10 (myenv)",
   "language": "python",
   "name": "myenv"
  },
  "language_info": {
   "codemirror_mode": {
    "name": "ipython",
    "version": 3
   },
   "file_extension": ".py",
   "mimetype": "text/x-python",
   "name": "python",
   "nbconvert_exporter": "python",
   "pygments_lexer": "ipython3",
   "version": "3.7.6"
  }
 },
 "nbformat": 4,
 "nbformat_minor": 5
}
