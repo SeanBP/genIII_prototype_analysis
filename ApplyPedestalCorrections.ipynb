{
 "cells": [
  {
   "cell_type": "code",
   "execution_count": 1,
   "id": "92f2b12f",
   "metadata": {},
   "outputs": [],
   "source": [
    "import pickle\n",
    "import pandas as pd\n",
    "import numpy as np"
   ]
  },
  {
   "cell_type": "code",
   "execution_count": 6,
   "id": "69648e6f",
   "metadata": {},
   "outputs": [],
   "source": [
    "df = pd.read_pickle(\"BNLCosmic3_DF.pkl\")\n",
    "\n",
    "ped_dict = pd.read_pickle(\"Ped_BNL.pkl\")"
   ]
  },
  {
   "cell_type": "code",
   "execution_count": 7,
   "id": "ebe2d0d2",
   "metadata": {},
   "outputs": [
    {
     "name": "stdout",
     "output_type": "stream",
     "text": [
      "   event  channel    HG   LG  CAEN_brd  CAEN_ch  CAEN  HG_ped_corr  \\\n",
      "0      0        0   304  128         0        0     0          0.0   \n",
      "1      0        1   425  142         0        1     0          0.0   \n",
      "2      0        2  1180  141         0        2     0          0.0   \n",
      "3      0        3   769  203         0        3     0          0.0   \n",
      "4      0        4   302  154         0        4     0          0.0   \n",
      "\n",
      "   LG_ped_corr  \n",
      "0     0.000000  \n",
      "1     0.000000  \n",
      "2     0.000000  \n",
      "3    90.635845  \n",
      "4     0.000000  \n"
     ]
    }
   ],
   "source": [
    "ped_df = pd.DataFrame(ped_dict)\n",
    "\n",
    "# Ensure \"channel\" column exists\n",
    "ped_df[\"channel\"] = ped_df.index\n",
    "\n",
    "# Drop any overlapping columns from ped_df (except \"channel\")\n",
    "overlapping_cols = set(df.columns).intersection(ped_df.columns) - {\"channel\"}\n",
    "ped_df = ped_df.drop(columns=overlapping_cols)\n",
    "\n",
    "# Merge pedestal data into the main DataFrame\n",
    "df = pd.merge(df, ped_df, on=\"channel\", how=\"left\")\n",
    "\n",
    "# Compute pedestal-corrected HG and LG\n",
    "df[\"HG_ped_corr\"] = df[\"HG\"] - df[\"HGPedMean\"]\n",
    "df[\"LG_ped_corr\"] = df[\"LG\"] - df[\"LGPedMean\"]\n",
    "\n",
    "# Apply 3-sigma cut\n",
    "df[\"LG_ped_corr\"] = df[\"LG_ped_corr\"].where(df[\"LG_ped_corr\"] >= 3 * df[\"LGPedSigma\"], 0)\n",
    "df[\"HG_ped_corr\"] = df[\"HG_ped_corr\"].where(df[\"HG_ped_corr\"] >= 3 * df[\"HGPedSigma\"], 0)\n",
    "\n",
    "# Drop pedestal mean/sigma columns now that they're no longer needed\n",
    "df.drop(columns=[\"HGPedMean\", \"LGPedMean\", \"HGPedSigma\", \"LGPedSigma\"], inplace=True)\n",
    "\n",
    "print(df.head())\n",
    "\n"
   ]
  },
  {
   "cell_type": "code",
   "execution_count": 8,
   "id": "ae56ee48",
   "metadata": {},
   "outputs": [],
   "source": [
    "with open('BNLCosmic3_DF.pkl', 'wb') as f:\n",
    "    pickle.dump(df, f)"
   ]
  },
  {
   "cell_type": "code",
   "execution_count": null,
   "id": "8f2b3928-53a2-4610-9135-d09eaa47ff61",
   "metadata": {},
   "outputs": [],
   "source": []
  }
 ],
 "metadata": {
  "kernelspec": {
   "display_name": "Python 3 (ipykernel)",
   "language": "python",
   "name": "python3"
  },
  "language_info": {
   "codemirror_mode": {
    "name": "ipython",
    "version": 3
   },
   "file_extension": ".py",
   "mimetype": "text/x-python",
   "name": "python",
   "nbconvert_exporter": "python",
   "pygments_lexer": "ipython3",
   "version": "3.12.7"
  }
 },
 "nbformat": 4,
 "nbformat_minor": 5
}
