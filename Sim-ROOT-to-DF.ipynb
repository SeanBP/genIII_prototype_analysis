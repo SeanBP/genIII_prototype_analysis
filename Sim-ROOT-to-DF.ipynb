{
 "cells": [
  {
   "cell_type": "code",
   "execution_count": 1,
   "id": "47f6c161",
   "metadata": {},
   "outputs": [],
   "source": [
    "import uproot as ur\n",
    "import awkward as ak\n",
    "import pandas as pd\n",
    "import itertools\n",
    "import numpy as np"
   ]
  },
  {
   "cell_type": "code",
   "execution_count": 8,
   "id": "60211d7d",
   "metadata": {},
   "outputs": [],
   "source": [
    "# Load file\n",
    "input_file = \"../../genIII_data/Sim/p_2.5GeV.edm4hep.root\"\n",
    "events = ur.open(f\"{input_file}:events\")\n",
    "\n",
    "# Load jagged arrays from branches\n",
    "energy = events[\"HcalFarForwardZDCHits/HcalFarForwardZDCHits.energy\"].array()\n",
    "x = events[\"HcalFarForwardZDCHits/HcalFarForwardZDCHits.position.x\"].array()\n",
    "y = events[\"HcalFarForwardZDCHits/HcalFarForwardZDCHits.position.y\"].array()\n",
    "z = events[\"HcalFarForwardZDCHits/HcalFarForwardZDCHits.position.z\"].array()\n",
    "\n",
    "contrib_begin = events[\"HcalFarForwardZDCHits/HcalFarForwardZDCHits.contributions_begin\"].array()\n",
    "time_all = events[\"HcalFarForwardZDCHitsContributions/HcalFarForwardZDCHitsContributions.time\"].array()\n",
    "\n",
    "# Use the begin indices to select the first time for each hit\n",
    "first_time = time_all[contrib_begin]\n",
    "\n",
    "# Add event number as a jagged array matching hit counts\n",
    "event_nums = ak.local_index(energy)\n",
    "\n",
    "# Combine into a jagged array of records\n",
    "hits = ak.zip({\n",
    "    \"event\": event_nums,\n",
    "    \"energy_GeV\": energy,\n",
    "    \"x\": x,\n",
    "    \"y\": y,\n",
    "    \"z\": z - np.min(z),\n",
    "    \"t\": first_time\n",
    "})\n",
    "\n",
    "# Flatten to get one row per hit\n",
    "flat_hits = ak.flatten(hits, axis=0)\n",
    "\n",
    "# Convert to pandas DataFrame\n",
    "df = ak.to_dataframe(flat_hits).reset_index(drop=True)"
   ]
  },
  {
   "cell_type": "code",
   "execution_count": 9,
   "id": "6d6f57da",
   "metadata": {},
   "outputs": [
    {
     "name": "stdout",
     "output_type": "stream",
     "text": [
      "        event    energy_GeV          x          y           z           t\n",
      "0           0  1.281608e-03  12.200000  12.200000    0.000000    0.192782\n",
      "1           1  9.080343e-04 -12.200000 -12.200000   27.111996    0.294401\n",
      "2           2  2.428513e-03  12.200000  12.200000   54.224003    0.391181\n",
      "3           3  8.517034e-06  36.599998 -12.200000   81.335999    6.961655\n",
      "4           4  6.111864e-05  12.200000 -36.599998  325.343994   48.113235\n",
      "...       ...           ...        ...        ...         ...         ...\n",
      "201843     23  1.998560e-06  85.400002  85.400002  298.231995   90.514847\n",
      "201844     24  7.549862e-07  85.400002  36.599998  298.231995  116.756233\n",
      "201845     25  3.279125e-05  36.599998 -61.000000  244.008011   27.167301\n",
      "201846     26  1.711879e-05  85.400002 -12.200000  244.008011   23.226875\n",
      "201847     27  3.697388e-05 -36.599998  12.200000  162.671997    0.951371\n",
      "\n",
      "[201848 rows x 6 columns]\n"
     ]
    }
   ],
   "source": [
    "print(df)"
   ]
  },
  {
   "cell_type": "code",
   "execution_count": 10,
   "id": "43ffdb31",
   "metadata": {},
   "outputs": [],
   "source": [
    "unique_xyz = df[['x', 'y', 'z']].drop_duplicates()\n",
    "unique_events = df['event'].drop_duplicates()\n",
    "\n",
    "# Step 3: Create a Cartesian product of all event × (x, y, z)\n",
    "full_grid = pd.merge(\n",
    "    unique_events.to_frame(name='event').assign(dummy=1),\n",
    "    unique_xyz.assign(dummy=1),\n",
    "    on='dummy'\n",
    ").drop(columns='dummy')\n",
    "\n",
    "# Step 4: Merge original data into this grid\n",
    "full_df = pd.merge(\n",
    "    full_grid,\n",
    "    df,\n",
    "    on=['event', 'x', 'y', 'z'],\n",
    "    how='left'\n",
    ")\n",
    "\n",
    "# Step 5: Fill in missing energies with 0\n",
    "full_df['energy_GeV'] = full_df['energy_GeV'].fillna(0)\n",
    "\n",
    "# Optional: convert energy to float (if needed)\n",
    "full_df['energy_GeV'] = full_df['energy_GeV'].astype(float)\n",
    "full_df = full_df.sort_values(by=[\"event\", \"z\", \"y\", \"x\"]).reset_index(drop=True)\n",
    "\n",
    "\n",
    "# Step 1: Assign \"layer\" by ranking unique z values\n",
    "z_to_layer = {z: i for i, z in enumerate(sorted(full_df['z'].unique()))}\n",
    "full_df['layer'] = full_df['z'].map(z_to_layer)\n",
    "\n",
    "# Step 2: Sort again to ensure correct order before assigning layer_ch\n",
    "full_df = full_df.sort_values(by=[\"event\", \"layer\", \"y\", \"x\"]).reset_index(drop=True)\n",
    "\n",
    "# Step 3: Assign layer_ch within each event/layer group\n",
    "full_df['layer_ch'] = full_df.groupby(['event', 'layer']).cumcount()\n",
    "# Add energy_MIP column\n",
    "full_df[\"energy_MIP\"] = full_df[\"energy_GeV\"] / 0.000875127161931984\n"
   ]
  },
  {
   "cell_type": "code",
   "execution_count": 11,
   "id": "205438f8",
   "metadata": {},
   "outputs": [
    {
     "name": "stdout",
     "output_type": "stream",
     "text": [
      "        event           x          y           z  energy_GeV         t  layer  \\\n",
      "0           0  -85.400002 -85.400002    0.000000    0.000000       NaN      0   \n",
      "1           0  -36.599998 -85.400002    0.000000    0.000000       NaN      0   \n",
      "2           0   12.200000 -85.400002    0.000000    0.000000       NaN      0   \n",
      "3           0   61.000000 -85.400002    0.000000    0.000004  0.472079      0   \n",
      "4           0  109.800003 -85.400002    0.000000    0.000000       NaN      0   \n",
      "...       ...         ...        ...         ...         ...       ...    ...   \n",
      "223661    116 -109.800003  85.400002  406.679993    0.000000       NaN     15   \n",
      "223662    116  -61.000000  85.400002  406.679993    0.000000       NaN     15   \n",
      "223663    116  -12.200000  85.400002  406.679993    0.000000       NaN     15   \n",
      "223664    116   36.599998  85.400002  406.679993    0.000000       NaN     15   \n",
      "223665    116   85.400002  85.400002  406.679993    0.000000       NaN     15   \n",
      "\n",
      "        layer_ch  energy_MIP  \n",
      "0              0    0.000000  \n",
      "1              1    0.000000  \n",
      "2              2    0.000000  \n",
      "3              3    0.004732  \n",
      "4              4    0.000000  \n",
      "...          ...         ...  \n",
      "223661        20    0.000000  \n",
      "223662        21    0.000000  \n",
      "223663        22    0.000000  \n",
      "223664        23    0.000000  \n",
      "223665        24    0.000000  \n",
      "\n",
      "[223666 rows x 9 columns]\n"
     ]
    }
   ],
   "source": [
    "print(full_df)"
   ]
  },
  {
   "cell_type": "code",
   "execution_count": null,
   "id": "5a3f4aa2",
   "metadata": {},
   "outputs": [],
   "source": []
  }
 ],
 "metadata": {
  "kernelspec": {
   "display_name": "Python 3.10 (myenv)",
   "language": "python",
   "name": "myenv"
  },
  "language_info": {
   "codemirror_mode": {
    "name": "ipython",
    "version": 3
   },
   "file_extension": ".py",
   "mimetype": "text/x-python",
   "name": "python",
   "nbconvert_exporter": "python",
   "pygments_lexer": "ipython3",
   "version": "3.7.6"
  }
 },
 "nbformat": 4,
 "nbformat_minor": 5
}
