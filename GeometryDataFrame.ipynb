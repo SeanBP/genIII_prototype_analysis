{
 "cells": [
  {
   "cell_type": "code",
   "execution_count": 6,
   "metadata": {
    "colab": {
     "base_uri": "https://localhost:8080/",
     "height": 824
    },
    "id": "LLGNqQnj9TCA",
    "outputId": "33c63eb7-024a-460d-ee2a-a0d76a5df2aa"
   },
   "outputs": [],
   "source": [
    "import pandas as pd\n",
    "import itertools\n",
    "import matplotlib.pyplot as plt\n",
    "from mpl_toolkits.mplot3d import Axes3D\n",
    "import numpy as np"
   ]
  },
  {
   "cell_type": "code",
   "execution_count": 8,
   "metadata": {},
   "outputs": [
    {
     "name": "stdout",
     "output_type": "stream",
     "text": [
      "     CAEN_brd  CAEN_ch  channel  layer  layer_ch      x     y        z\n",
      "0           0        0        0      0         0  -85.4 -85.4    0.000\n",
      "1           0        1        1      0         1  -36.6 -85.4    0.000\n",
      "2           0        2        2      0         2   12.2 -85.4    0.000\n",
      "3           0        3        3      0         3   61.0 -85.4    0.000\n",
      "4           0        4        4      0         4  109.8 -85.4    0.000\n",
      "..        ...      ...      ...    ...       ...    ...   ...      ...\n",
      "558         8       58      570     24         8   61.0 -36.6  650.688\n",
      "559         8       59      571     24         9  109.8 -36.6  650.688\n",
      "560         8       60      572     24        10  -85.4  12.2  650.688\n",
      "561         8       61      573     24        11  -36.6  12.2  650.688\n",
      "562         8       62      574     24        12   12.2  12.2  650.688\n",
      "\n",
      "[563 rows x 8 columns]\n"
     ]
    }
   ],
   "source": [
    "# Constants\n",
    "grid_size = 5\n",
    "spacing_xy = 48.8\n",
    "spacing_z = 27.112\n",
    "half_shift = spacing_xy / 4\n",
    "\n",
    "# Board ID mapping\n",
    "board_ids = {\n",
    "    0: 'E1',   1: 'O10', 2: 'E2',  3: 'O2',  4: 'E3',\n",
    "    5: 'O3',   6: 'E9',  7: 'O9',  8: 'E5',  9: 'O5',\n",
    "    10: 'E6', 11: 'O6', 12: 'E7', 13: 'O7', 14: 'E8'\n",
    "}\n",
    "\n",
    "# CAEN-to-layer mapping\n",
    "caen_mapping = {\n",
    "    0: [(0, 24, 0), (25, 49, 1), (50, 62, '4a')],\n",
    "    1: [(0, 24, 2), (25, 49, 3), (50, 61, '4b')],\n",
    "    2: [(0, 24, 5), (25, 49, 6), (50, 62, '9a')],\n",
    "    3: [(0, 24, 7), (25, 49, 8), (50, 61, '9b')],\n",
    "    4: [(0, 24, 10), (25, 49, 11), (50, 62, '14a')],\n",
    "    5: [(0, 24, 12), (25, 49, 13), (50, 61, '14b')],\n",
    "    6: [(0, 24, 15), (25, 49, 16), (50, 62, '19a')],\n",
    "    7: [(0, 24, 17), (25, 49, 18), (50, 61, '19b')],\n",
    "    8: [(0, 24, 20), (25, 49, 21), (50, 62, '24a')]\n",
    "}\n",
    "\n",
    "records = []\n",
    "\n",
    "for caen, ranges in caen_mapping.items():\n",
    "    for start_ch, end_ch, layer in ranges:\n",
    "        num_channels = end_ch - start_ch + 1\n",
    "\n",
    "        if isinstance(layer, str) and layer.endswith('a'):\n",
    "            position_offset = 0\n",
    "            layer_number = int(layer[:-1])\n",
    "        elif isinstance(layer, str) and layer.endswith('b'):\n",
    "            position_offset = 13\n",
    "            layer_number = int(layer[:-1])\n",
    "        else:\n",
    "            position_offset = 0\n",
    "            layer_number = layer\n",
    "\n",
    "        for i in range(num_channels):\n",
    "            caen_channel = start_ch + i\n",
    "            position = position_offset + i\n",
    "\n",
    "            # Grid position\n",
    "            row = position // grid_size\n",
    "            col = position % grid_size\n",
    "\n",
    "            # Centered x,y\n",
    "            x = -(2 - col) * spacing_xy\n",
    "            y = (row - 2) * spacing_xy\n",
    "\n",
    "            # Apply shift for staggered layers\n",
    "            if layer_number % 2 == 0:\n",
    "                x += half_shift\n",
    "                y += half_shift\n",
    "            else:\n",
    "                x -= half_shift\n",
    "                y -= half_shift\n",
    "\n",
    "            z = layer_number * spacing_z\n",
    "            channel_num = caen_channel + 64 * caen\n",
    "            #board_id = board_ids[layer_number]\n",
    "\n",
    "            records.append({\n",
    "                'CAEN_brd': caen,\n",
    "                'CAEN_ch': caen_channel,\n",
    "                'channel': channel_num,\n",
    "                'layer': layer_number,\n",
    "                'layer_ch': position,\n",
    "                'x': x,\n",
    "                'y': y,\n",
    "                'z': z\n",
    "                #'board_id': board_id\n",
    "            })\n",
    "\n",
    "# Create DataFrame\n",
    "df = pd.DataFrame.from_records(records)\n",
    "\n",
    "# Optional: sort by Ch# or any other field\n",
    "df = df.sort_values(by='channel').reset_index(drop=True)"
   ]
  },
  {
   "cell_type": "code",
   "execution_count": 10,
   "metadata": {},
   "outputs": [
    {
     "name": "stdout",
     "output_type": "stream",
     "text": [
      "     CAEN_brd  CAEN_ch  channel  layer  layer_ch      x     y        z\n",
      "0           0        0        0    0.0       0.0  -85.4 -85.4    0.000\n",
      "1           0        1        1    0.0       1.0  -36.6 -85.4    0.000\n",
      "2           0        2        2    0.0       2.0   12.2 -85.4    0.000\n",
      "3           0        3        3    0.0       3.0   61.0 -85.4    0.000\n",
      "4           0        4        4    0.0       4.0  109.8 -85.4    0.000\n",
      "..        ...      ...      ...    ...       ...    ...   ...      ...\n",
      "571         8       59      571   24.0       9.0  109.8 -36.6  650.688\n",
      "572         8       60      572   24.0      10.0  -85.4  12.2  650.688\n",
      "573         8       61      573   24.0      11.0  -36.6  12.2  650.688\n",
      "574         8       62      574   24.0      12.0   12.2  12.2  650.688\n",
      "575         8       63      575    NaN       NaN    NaN   NaN      NaN\n",
      "\n",
      "[576 rows x 8 columns]\n"
     ]
    }
   ],
   "source": [
    "# Step 1: Get all unique CAEN boards\n",
    "caen_boards = df[\"CAEN_brd\"].unique()\n",
    "\n",
    "# Step 2: Generate all possible (CAEN_brd, CAEN_ch) combinations\n",
    "full_index = pd.DataFrame([\n",
    "    {\"CAEN_brd\": brd, \"CAEN_ch\": ch}\n",
    "    for brd in caen_boards\n",
    "    for ch in range(64)\n",
    "])\n",
    "\n",
    "# Step 3: Calculate 'channel' from CAEN_brd and CAEN_ch\n",
    "full_index[\"channel\"] = full_index[\"CAEN_brd\"] * 64 + full_index[\"CAEN_ch\"]\n",
    "\n",
    "# Step 4: Merge with existing DataFrame\n",
    "df_filled = pd.merge(\n",
    "    full_index,\n",
    "    df,\n",
    "    on=[\"CAEN_brd\", \"CAEN_ch\", \"channel\"],\n",
    "    how=\"left\",\n",
    "    suffixes=('', '_orig')\n",
    ")\n",
    "\n",
    "# Step 5: Sort for readability\n",
    "df_filled = df_filled.sort_values(by=[\"channel\"]).reset_index(drop=True)\n",
    "\n",
    "print(df_filled)\n"
   ]
  },
  {
   "cell_type": "code",
   "execution_count": 11,
   "metadata": {},
   "outputs": [],
   "source": [
    "df.to_pickle(\"geometry_DF.pkl\")"
   ]
  },
  {
   "cell_type": "code",
   "execution_count": null,
   "metadata": {},
   "outputs": [],
   "source": []
  }
 ],
 "metadata": {
  "colab": {
   "provenance": []
  },
  "kernelspec": {
   "display_name": "Python 3",
   "language": "python",
   "name": "python3"
  },
  "language_info": {
   "codemirror_mode": {
    "name": "ipython",
    "version": 3
   },
   "file_extension": ".py",
   "mimetype": "text/x-python",
   "name": "python",
   "nbconvert_exporter": "python",
   "pygments_lexer": "ipython3",
   "version": "3.7.6"
  }
 },
 "nbformat": 4,
 "nbformat_minor": 1
}
