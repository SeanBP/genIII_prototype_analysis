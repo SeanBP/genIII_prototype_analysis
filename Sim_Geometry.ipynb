{
 "cells": [
  {
   "cell_type": "code",
   "execution_count": 34,
   "id": "cd740d19",
   "metadata": {},
   "outputs": [],
   "source": [
    "import os\n",
    "import numpy as np\n",
    "import pandas as pd\n",
    "import matplotlib.pyplot as plt\n",
    "import mplhep as hep\n",
    "from iminuit import Minuit\n",
    "from iminuit.cost import LeastSquares\n",
    "import pickle\n",
    "import uproot as ur\n",
    "import re"
   ]
  },
  {
   "cell_type": "code",
   "execution_count": 35,
   "id": "eb98d024",
   "metadata": {},
   "outputs": [],
   "source": [
    "input_file = f\"../../genIII_data/Sim/positron_2GeV.edm4hep.root\"\n",
    "\n",
    "events = ur.open(\"%s:events\"%(input_file))"
   ]
  },
  {
   "cell_type": "code",
   "execution_count": 36,
   "id": "b31a4321",
   "metadata": {},
   "outputs": [
    {
     "name": "stdout",
     "output_type": "stream",
     "text": [
      "['HcalFarForwardZDCHits.cellID', 'HcalFarForwardZDCHits.energy', 'HcalFarForwardZDCHits.position.x', 'HcalFarForwardZDCHits.position.y', 'HcalFarForwardZDCHits.position.z', 'HcalFarForwardZDCHits.contributions_begin', 'HcalFarForwardZDCHits.contributions_end']\n"
     ]
    }
   ],
   "source": [
    "print(events[\"HcalFarForwardZDCHits\"].keys())"
   ]
  },
  {
   "cell_type": "code",
   "execution_count": 38,
   "id": "cc08e6ba",
   "metadata": {},
   "outputs": [],
   "source": [
    "def map_z_to_layer(z_array_list):\n",
    "    # Flatten the array of arrays\n",
    "    all_z = np.concatenate(z_array_list)\n",
    "    \n",
    "    # Find unique sorted z-values\n",
    "    unique_z = np.unique(all_z)\n",
    "    \n",
    "    # Create a mapping from z to layer index\n",
    "    z_to_layer = {z: i for i, z in enumerate(unique_z)}\n",
    "    \n",
    "    return z_to_layer\n",
    "\n",
    "import numpy as np\n",
    "\n",
    "def map_channels_by_layer(x_array_list, y_array_list, z_array_list, z_to_layer):\n",
    "    # Flatten arrays\n",
    "    x_all = np.concatenate(x_array_list)\n",
    "    y_all = np.concatenate(y_array_list)\n",
    "    z_all = np.concatenate(z_array_list)\n",
    "\n",
    "    # Get corresponding layers\n",
    "    layers = np.array([z_to_layer[z] for z in z_all])\n",
    "\n",
    "    # Function to map positions to channel numbers\n",
    "    def get_channel_map(x_vals, y_vals):\n",
    "        # Find unique x and y positions\n",
    "        unique_x = np.unique(x_vals)\n",
    "        unique_y = np.unique(y_vals)\n",
    "\n",
    "        # Sort from right to left (descending x) and bottom to top (ascending y)\n",
    "        sorted_x = np.sort(unique_x)[::-1]  # right to left\n",
    "        sorted_y = np.sort(unique_y)        # bottom to top\n",
    "\n",
    "        # Create mapping for grid positions\n",
    "        channel_map = {}\n",
    "        ch = 0\n",
    "        for y in sorted_y:\n",
    "            for x in sorted_x:\n",
    "                channel_map[(x, y)] = ch\n",
    "                ch += 1\n",
    "        return channel_map\n",
    "\n",
    "    # Separate into even and odd layer hits\n",
    "    even_mask = (layers % 2 == 0)\n",
    "    odd_mask  = (layers % 2 == 1)\n",
    "\n",
    "    even_channel_map = get_channel_map(x_all[even_mask], y_all[even_mask])\n",
    "    odd_channel_map  = get_channel_map(x_all[odd_mask], y_all[odd_mask])\n",
    "\n",
    "    return even_channel_map, odd_channel_map\n"
   ]
  },
  {
   "cell_type": "code",
   "execution_count": 39,
   "id": "9821877a",
   "metadata": {},
   "outputs": [],
   "source": [
    "x_array_list = events[\"HcalFarForwardZDCHits\"][\"HcalFarForwardZDCHits.position.x\"]\n",
    "y_array_list = events[\"HcalFarForwardZDCHits\"][\"HcalFarForwardZDCHits.position.y\"]\n",
    "z_array_list = events[\"HcalFarForwardZDCHits\"][\"HcalFarForwardZDCHits.position.z\"]\n",
    "\n",
    "z_array_list = np.array(z_array_list)\n",
    "z_to_layer_map = map_z_to_layer(z_array_list)\n",
    "\n",
    "even_ch_map, odd_ch_map = map_channels_by_layer(np.array(x_array_list), np.array(y_array_list), z_array_list, z_to_layer_map)"
   ]
  },
  {
   "cell_type": "code",
   "execution_count": 40,
   "id": "b16f76f7",
   "metadata": {},
   "outputs": [
    {
     "name": "stdout",
     "output_type": "stream",
     "text": [
      "{(85.4, -109.8): 0, (36.6, -109.8): 1, (-12.2, -109.8): 2, (-61.0, -109.8): 3, (-109.8, -109.8): 4, (85.4, -61.0): 5, (36.6, -61.0): 6, (-12.2, -61.0): 7, (-61.0, -61.0): 8, (-109.8, -61.0): 9, (85.4, -12.2): 10, (36.6, -12.2): 11, (-12.2, -12.2): 12, (-61.0, -12.2): 13, (-109.8, -12.2): 14, (85.4, 36.6): 15, (36.6, 36.6): 16, (-12.2, 36.6): 17, (-61.0, 36.6): 18, (-109.8, 36.6): 19, (85.4, 85.4): 20, (36.6, 85.4): 21, (-12.2, 85.4): 22, (-61.0, 85.4): 23, (-109.8, 85.4): 24}\n",
      "{(109.8, -85.4): 0, (61.0, -85.4): 1, (12.2, -85.4): 2, (-36.6, -85.4): 3, (-85.4, -85.4): 4, (109.8, -36.6): 5, (61.0, -36.6): 6, (12.2, -36.6): 7, (-36.6, -36.6): 8, (-85.4, -36.6): 9, (109.8, 12.2): 10, (61.0, 12.2): 11, (12.2, 12.2): 12, (-36.6, 12.2): 13, (-85.4, 12.2): 14, (109.8, 61.0): 15, (61.0, 61.0): 16, (12.2, 61.0): 17, (-36.6, 61.0): 18, (-85.4, 61.0): 19, (109.8, 109.8): 20, (61.0, 109.8): 21, (12.2, 109.8): 22, (-36.6, 109.8): 23, (-85.4, 109.8): 24}\n",
      "{5002.756: 0, 5029.868: 1, 5056.98: 2, 5084.092: 3, 5111.204: 4, 5138.316: 5, 5165.428: 6, 5192.54: 7, 5219.652: 8, 5246.764: 9, 5273.876: 10, 5300.988: 11, 5328.1: 12, 5355.212: 13, 5382.324: 14, 5409.436: 15, 5436.548: 16, 5463.66: 17, 5490.772: 18, 5517.884: 19, 5544.996: 20, 5572.108: 21, 5599.22: 22, 5626.332: 23, 5653.444: 24, 5680.556: 25, 5707.668: 26, 5734.78: 27, 5761.892: 28, 5789.004: 29, 5816.116: 30, 5843.228: 31, 5870.34: 32, 5897.452: 33, 5924.564: 34, 5951.676: 35, 5978.788: 36, 6005.9: 37, 6033.012: 38, 6060.124: 39, 6087.236: 40, 6114.348: 41, 6141.46: 42, 6168.572: 43, 6195.684: 44, 6222.796: 45, 6249.908: 46, 6277.02: 47, 6304.132: 48, 6331.244: 49, 6358.356: 50, 6385.468: 51, 6412.58: 52, 6439.692: 53, 6466.804: 54, 6493.916: 55, 6521.028: 56, 6548.14: 57, 6575.252: 58, 6602.364: 59}\n"
     ]
    }
   ],
   "source": [
    "print(even_ch_map)\n",
    "print(odd_ch_map)\n",
    "print(z_to_layer_map)"
   ]
  },
  {
   "cell_type": "code",
   "execution_count": 41,
   "id": "3207ff1e",
   "metadata": {},
   "outputs": [],
   "source": [
    "# Put all maps into a single dictionary for convenience\n",
    "data_to_save = {\n",
    "    \"even_ch_map\": even_ch_map,\n",
    "    \"odd_ch_map\": odd_ch_map,\n",
    "    \"z_to_layer_map\": z_to_layer_map\n",
    "}\n",
    "\n",
    "# Save to pickle file\n",
    "with open(\"sim_geometry.pkl\", \"wb\") as f:\n",
    "    pickle.dump(data_to_save, f)"
   ]
  },
  {
   "cell_type": "code",
   "execution_count": null,
   "id": "91413266",
   "metadata": {},
   "outputs": [],
   "source": []
  }
 ],
 "metadata": {
  "kernelspec": {
   "display_name": "Python 3.10 (myenv)",
   "language": "python",
   "name": "myenv"
  },
  "language_info": {
   "codemirror_mode": {
    "name": "ipython",
    "version": 3
   },
   "file_extension": ".py",
   "mimetype": "text/x-python",
   "name": "python",
   "nbconvert_exporter": "python",
   "pygments_lexer": "ipython3",
   "version": "3.7.6"
  }
 },
 "nbformat": 4,
 "nbformat_minor": 5
}
