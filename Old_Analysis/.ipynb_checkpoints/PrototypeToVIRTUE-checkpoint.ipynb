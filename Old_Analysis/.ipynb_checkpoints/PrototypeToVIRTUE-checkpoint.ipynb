{
 "cells": [
  {
   "cell_type": "code",
   "execution_count": 1,
   "id": "7cce9222",
   "metadata": {},
   "outputs": [],
   "source": [
    "import pickle\n",
    "import os\n",
    "import numpy as np\n",
    "import pandas as pd\n",
    "import json"
   ]
  },
  {
   "cell_type": "code",
   "execution_count": 19,
   "id": "f882a1c1",
   "metadata": {},
   "outputs": [],
   "source": [
    "with open('../../genIII_data/BNL/BNL_Cosmic.pkl', 'rb') as file:\n",
    "    # Load the data from the pickle file\n",
    "    din = pickle.load(file)\n",
    "e_cut = 0.3"
   ]
  },
  {
   "cell_type": "code",
   "execution_count": 20,
   "id": "feea34b8",
   "metadata": {},
   "outputs": [
    {
     "name": "stdout",
     "output_type": "stream",
     "text": [
      "{'positions': array([[-85.4  , -85.4  ,   0.   ,   0.   ,   0.   ],\n",
      "       [-36.6  , -85.4  ,   0.   ,   0.   ,   1.   ],\n",
      "       [ 12.2  , -85.4  ,   0.   ,   0.   ,   2.   ],\n",
      "       ...,\n",
      "       [ 12.2  , 109.8  , 379.568,  14.   ,  22.   ],\n",
      "       [ 61.   , 109.8  , 379.568,  14.   ,  23.   ],\n",
      "       [109.8  , 109.8  , 379.568,  14.   ,  24.   ]]), 'events': array([[0.0, 0.0, 0.0, ..., 7970.0, 8035.0, 8021.0],\n",
      "       [0.0, 0.0, 0.0, ..., 0.0, 293.0, 652.0],\n",
      "       [0.0, 0.0, 0.0, ..., 0.0, 0.0, 292.0],\n",
      "       ...,\n",
      "       [0.0, 0.0, 0.0, ..., 0.0, 230.0, 566.0],\n",
      "       [0.0, 0.0, 0.0, ..., 0.0, 0.0, 258.0],\n",
      "       [0.0, 0.0, 0.0, ..., 0.0, 0.0, 512.0]], dtype=object)}\n"
     ]
    }
   ],
   "source": [
    "print(din)"
   ]
  },
  {
   "cell_type": "code",
   "execution_count": 21,
   "id": "6513b0d2",
   "metadata": {},
   "outputs": [],
   "source": [
    "evt_energy = []\n",
    "maxE = 0\n",
    "\n",
    "for evt_idx, event in enumerate(din['events']):\n",
    "    energy = 0\n",
    "    for e in event:\n",
    "        if e > e_cut:\n",
    "            if e > maxE:\n",
    "                maxE = e\n",
    "            energy += e\n",
    "    evt_energy.append(energy)"
   ]
  },
  {
   "cell_type": "code",
   "execution_count": 22,
   "id": "800d040d",
   "metadata": {},
   "outputs": [],
   "source": [
    "# Generate the header section\n",
    "header = {\n",
    "    \"version\": \"2.2.0\",\n",
    "    \"experiment\": f\"ZDC Prototype\",\n",
    "    \"energy_unit\": \"ADC\", # Select \"eV\", \"KeV\", \"MeV\", \"GeV\", or \"TeV\"\n",
    "    \"color_bar\": \"Lin\", # Select \"Lin\" or \"Log\"\n",
    "    \"length_unit\": \"cm\",\n",
    "    \"time_scale\": 10,\n",
    "    \"particles\": [\n",
    "        {\n",
    "        \"angle_rad\": [0.0 , 0.0],       \n",
    "        \"size\": float(10),\n",
    "        \"color_rgba\": [float(1), float(0), float(0), float(1)]\n",
    "        }\n",
    "    ],\n",
    "    \"tracker_settings\": {\n",
    "        \"B_field_T\": float(0),\n",
    "        \"tracker_boundary\": [float(1), float(1), float(1)]\n",
    "    }\n",
    "}\n",
    "\n",
    "# Main data structure\n",
    "data = {\n",
    "    \"header\": header,\n",
    "    \"events\": []\n",
    "}"
   ]
  },
  {
   "cell_type": "code",
   "execution_count": 23,
   "id": "662dbf95",
   "metadata": {},
   "outputs": [],
   "source": [
    "indices = [i for i, energy in enumerate(evt_energy) if energy > 0]\n",
    "events = []\n",
    "\n",
    "for i in indices:\n",
    "    \n",
    "    info_text = f\"Event #{i}\"\n",
    "    event = {\n",
    "        \"event_data\": {\n",
    "            \"info_text\": info_text,\n",
    "            \"energy_scale\": [0, maxE]\n",
    "        },\n",
    "        \"hits\": [],\n",
    "        \"clusters\": [],\n",
    "        \"tracks\": [],\n",
    "        \"jets\": [],\n",
    "        \"blocks\":[]\n",
    "    }\n",
    "    blocks = []\n",
    "    for j in range(len(din[\"events\"][i])):\n",
    "        \n",
    "        energy = din[\"events\"][i][j]\n",
    "        x = din[\"positions\"][j][0]\n",
    "        y = din[\"positions\"][j][1]\n",
    "        z = din[\"positions\"][j][2]\n",
    "            \n",
    "        #normalized_energy = np.log(energy / 0.3) / np.log(maxE / 0.3) if energy > 0.3 else 0\n",
    "        normalized_energy = energy / maxE\n",
    "        red, green, blue, alpha = normalized_energy, 0, 1-normalized_energy, normalized_energy\n",
    "\n",
    "        c = 299.792\n",
    "        time = z / c\n",
    "            \n",
    "        block = {\n",
    "                \"position\":[float(x), float(y), float(z)],\n",
    "                \"time_ns\": float(time),\n",
    "                \"size\": [float(48.8), float(48.8), float(4)],\n",
    "                \"color_rgba\": [float(red), float(green), float(blue), float(alpha)]\n",
    "            }\n",
    "        blocks.append(block)\n",
    "        \n",
    "    event[\"blocks\"] = blocks\n",
    "    \n",
    "        \n",
    "    events.append(event)\n",
    "    \n",
    "data[\"events\"] = events"
   ]
  },
  {
   "cell_type": "code",
   "execution_count": 24,
   "id": "e7f00ccd",
   "metadata": {},
   "outputs": [],
   "source": [
    "eventPath = f'BNL_ZDCPrototype.json'\n",
    "with open(eventPath, 'w') as outfile:\n",
    "    json.dump(data, outfile, indent=4)"
   ]
  },
  {
   "cell_type": "code",
   "execution_count": null,
   "id": "47a9ae09",
   "metadata": {},
   "outputs": [],
   "source": []
  }
 ],
 "metadata": {
  "kernelspec": {
   "display_name": "Python 3.10 (myenv)",
   "language": "python",
   "name": "myenv"
  },
  "language_info": {
   "codemirror_mode": {
    "name": "ipython",
    "version": 3
   },
   "file_extension": ".py",
   "mimetype": "text/x-python",
   "name": "python",
   "nbconvert_exporter": "python",
   "pygments_lexer": "ipython3",
   "version": "3.7.6"
  }
 },
 "nbformat": 4,
 "nbformat_minor": 5
}
