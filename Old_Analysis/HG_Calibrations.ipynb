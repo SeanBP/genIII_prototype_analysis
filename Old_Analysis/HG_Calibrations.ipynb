{
 "cells": [
  {
   "cell_type": "code",
   "execution_count": 4,
   "id": "345dcd3f",
   "metadata": {},
   "outputs": [],
   "source": [
    "import os\n",
    "import numpy as np\n",
    "import pandas as pd\n",
    "import matplotlib.pyplot as plt\n",
    "import mplhep as hep\n",
    "from iminuit import Minuit\n",
    "from iminuit.cost import LeastSquares\n",
    "import pickle\n",
    "import uproot as ur\n",
    "import re"
   ]
  },
  {
   "cell_type": "code",
   "execution_count": 35,
   "id": "73d3488a",
   "metadata": {},
   "outputs": [],
   "source": [
    "with open(\"../../genIII_data/JLab/Ptrg/Ptrg1.pkl\", 'rb') as file:\n",
    "    ped = pickle.load(file)\n",
    "with open(\"geometry.pkl\", 'rb') as file:\n",
    "    geometry = pickle.load(file)\n",
    "\n",
    "input_file = f\"../../genIII_data/BNL/CosmicBNL.root\"\n",
    "\n",
    "events = ur.open(\"%s:raw\"%(input_file))"
   ]
  },
  {
   "cell_type": "code",
   "execution_count": 37,
   "id": "feeca3e6",
   "metadata": {},
   "outputs": [],
   "source": [
    "beam = {}\n",
    "\n",
    "for ch_key in events.keys():\n",
    "    match = re.match(r\"ch_(\\d+)\", ch_key)\n",
    "    if not match:\n",
    "        continue\n",
    "\n",
    "    ID = int(match.group(1))\n",
    "    values = np.array(events[ch_key])  # (n_events, 2) — each row is (LG, HG)\n",
    "\n",
    "    # Initialize lists\n",
    "    if f\"{ID}_HG\" not in beam:\n",
    "        beam[f\"{ID}_HG\"] = []\n",
    "\n",
    "    for i, (LG, HG) in enumerate(values):\n",
    "        beam[f\"{ID}_HG\"].append(float(HG))"
   ]
  },
  {
   "cell_type": "code",
   "execution_count": 38,
   "id": "e43891fa",
   "metadata": {},
   "outputs": [
    {
     "name": "stdout",
     "output_type": "stream",
     "text": [
      "0.0\n"
     ]
    }
   ],
   "source": [
    "num_channels = 64 * 6\n",
    "num_events = len(next(iter(beam.values())))\n",
    "\n",
    "# Compute the true channel number\n",
    "geometry[\"true_channel\"] = geometry[\"caen\"] * 64 + geometry[\"caen_channel\"]\n",
    "\n",
    "# Set index to true_channel for quick lookup\n",
    "df_positions = geometry.set_index(\"true_channel\")\n",
    "\n",
    "# Precompute valid channels that exist in both beam and geometry\n",
    "valid_channels = [\n",
    "    ch for ch in range(num_channels)\n",
    "    if f\"{ch}_HG\" in beam and ch in df_positions.index\n",
    "]\n",
    "valid_channels = np.array(valid_channels)\n",
    "\n",
    "ped_means = np.array([ped['HGPedMean'][ch] for ch in valid_channels])\n",
    "ped_sigmas = np.array([ped['HGPedSigma'][ch] for ch in valid_channels])\n",
    "\n",
    "# Stack x, y, z into one array\n",
    "positions = np.stack([x_vals, y_vals, z_vals, layers, chs], axis=1)\n",
    "\n",
    "beam_hg_mips = []\n",
    "\n",
    "# User-configurable settings\n",
    "range1 = np.arange(0, 24)    # First channel range\n",
    "range2 = np.arange(25, 49)   # Second channel range\n",
    "required_hits_range1 = 1     # Required hits in range 0–23\n",
    "threshold = 3             # threshold\n",
    "\n",
    "for evt in range(num_events):\n",
    "    if evt % 10000 == 0:\n",
    "        print(100 * evt / num_events)\n",
    "\n",
    "    raw_vals = np.array([beam[f\"{ch}_HG\"][evt] for ch in valid_channels])\n",
    "    val_subtracted = raw_vals - 130\n",
    "\n",
    "    # Compute mask for valid hits\n",
    "    valid_mask = (\n",
    "        (val_subtracted >= threshold * 70)\n",
    "    )\n",
    "\n",
    "    # Compute MIPs where valid, else 0\n",
    "    mips_vals = np.zeros_like(val_subtracted)\n",
    "    mips_vals[valid_mask] = val_subtracted[valid_mask]\n",
    "\n",
    "    # Get indices for each channel range in the valid_channels array\n",
    "    idx_range1 = np.where(np.isin(valid_channels, range1))[0]\n",
    "    idx_range2 = np.where(np.isin(valid_channels, range2))[0]\n",
    "\n",
    "    # Count how many channels in each range exceed the threshold\n",
    "    hits_range1 = np.sum(mips_vals[idx_range1] >= threshold)\n",
    "    hits_range2 = np.sum(mips_vals[idx_range2] >= threshold)\n",
    "\n",
    "    # Filter based on the required number of hits in each range\n",
    "    #if hits_range1 == required_hits_range1:\n",
    "    beam_hg_mips.append(mips_vals)\n",
    "\n",
    "\n",
    "\n",
    "beam_hg_mips = np.array(beam_hg_mips, dtype=object)\n"
   ]
  },
  {
   "cell_type": "code",
   "execution_count": 42,
   "id": "72a6c789",
   "metadata": {},
   "outputs": [],
   "source": [
    "with open('../../genIII_data/BNL/BNL_Cosmic.pkl', 'wb') as f:\n",
    "    pickle.dump(beam_hg_mips, f)"
   ]
  },
  {
   "cell_type": "code",
   "execution_count": 43,
   "id": "ee32cfcc",
   "metadata": {},
   "outputs": [
    {
     "name": "stdout",
     "output_type": "stream",
     "text": [
      "{'positions': array([[-85.4  , -85.4  ,   0.   ,   0.   ,   0.   ],\n",
      "       [-36.6  , -85.4  ,   0.   ,   0.   ,   1.   ],\n",
      "       [ 12.2  , -85.4  ,   0.   ,   0.   ,   2.   ],\n",
      "       ...,\n",
      "       [ 12.2  , 109.8  , 379.568,  14.   ,  22.   ],\n",
      "       [ 61.   , 109.8  , 379.568,  14.   ,  23.   ],\n",
      "       [109.8  , 109.8  , 379.568,  14.   ,  24.   ]]), 'events': array([[0.0, 0.0, 0.0, ..., 7970.0, 8035.0, 8021.0],\n",
      "       [0.0, 0.0, 0.0, ..., 0.0, 293.0, 652.0],\n",
      "       [0.0, 0.0, 0.0, ..., 0.0, 0.0, 292.0],\n",
      "       ...,\n",
      "       [0.0, 0.0, 0.0, ..., 0.0, 230.0, 566.0],\n",
      "       [0.0, 0.0, 0.0, ..., 0.0, 0.0, 258.0],\n",
      "       [0.0, 0.0, 0.0, ..., 0.0, 0.0, 512.0]], dtype=object)}\n"
     ]
    }
   ],
   "source": [
    "print(beam_data)"
   ]
  },
  {
   "cell_type": "code",
   "execution_count": null,
   "id": "ad6bb8c2",
   "metadata": {},
   "outputs": [],
   "source": []
  }
 ],
 "metadata": {
  "kernelspec": {
   "display_name": "Python 3.10 (myenv)",
   "language": "python",
   "name": "myenv"
  },
  "language_info": {
   "codemirror_mode": {
    "name": "ipython",
    "version": 3
   },
   "file_extension": ".py",
   "mimetype": "text/x-python",
   "name": "python",
   "nbconvert_exporter": "python",
   "pygments_lexer": "ipython3",
   "version": "3.7.6"
  }
 },
 "nbformat": 4,
 "nbformat_minor": 5
}
