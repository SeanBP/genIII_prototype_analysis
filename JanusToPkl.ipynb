{
 "cells": [
  {
   "cell_type": "code",
   "execution_count": 31,
   "id": "85cf8348",
   "metadata": {},
   "outputs": [],
   "source": [
    "import pickle\n",
    "import pandas as pd\n",
    "import matplotlib.pyplot as plt\n",
    "import mplhep as hep"
   ]
  },
  {
   "cell_type": "code",
   "execution_count": 36,
   "id": "4fd3d947",
   "metadata": {},
   "outputs": [],
   "source": [
    "with open('beam_data/Run12_list.txt') as f:\n",
    "    lines = f.read().split('\\n')\n",
    "tags = None\n",
    "IDs=[]\n",
    "layers=[]\n",
    "channels =[]\n",
    "din={}\n",
    "for line in lines:\n",
    "    if line[:2]==\"//\" or len(line)==0:\n",
    "        continue\n",
    "\n",
    "    if tags is None:\n",
    "        tags = line.split()\n",
    "        tags=tags[-3:]\n",
    "        continue;\n",
    "\n",
    "    split = line.split()\n",
    "    layer, channel, LG, HG = split[0:4]\n",
    "\n",
    "    ID=int(layer)*64+int(channel)\n",
    "\n",
    "    if ID not in IDs:\n",
    "        din[f\"{ID}_LG\"] = []\n",
    "        din[f\"{ID}_HG\"] = []\n",
    "        din[f\"{ID}_time\"] = []\n",
    "        IDs.append(ID)\n",
    "    din[f\"{ID}_LG\"].append(float(LG))\n",
    "    din[f\"{ID}_HG\"].append(float(HG))\n",
    "    if len(split) > 4:\n",
    "        layer, channel, LG, HG, time = split[0:5]\n",
    "        din[f\"{ID}_time\"].append(float(time))"
   ]
  },
  {
   "cell_type": "code",
   "execution_count": 37,
   "id": "19f70548",
   "metadata": {},
   "outputs": [],
   "source": [
    "with open('LG63HG63PedRun2.pkl', 'wb') as f:\n",
    "    pickle.dump(din, f)"
   ]
  },
  {
   "cell_type": "code",
   "execution_count": null,
   "id": "a488c273",
   "metadata": {},
   "outputs": [],
   "source": []
  }
 ],
 "metadata": {
  "kernelspec": {
   "display_name": "Python 3.10 (myenv)",
   "language": "python",
   "name": "myenv"
  },
  "language_info": {
   "codemirror_mode": {
    "name": "ipython",
    "version": 3
   },
   "file_extension": ".py",
   "mimetype": "text/x-python",
   "name": "python",
   "nbconvert_exporter": "python",
   "pygments_lexer": "ipython3",
   "version": "3.7.6"
  }
 },
 "nbformat": 4,
 "nbformat_minor": 5
}
