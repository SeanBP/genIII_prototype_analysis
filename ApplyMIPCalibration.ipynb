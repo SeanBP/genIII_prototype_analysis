{
 "cells": [
  {
   "cell_type": "code",
   "execution_count": 1,
   "id": "8a667d44-719b-4c23-a18d-1b2b007f60d8",
   "metadata": {},
   "outputs": [],
   "source": [
    "import pickle\n",
    "import pandas as pd"
   ]
  },
  {
   "cell_type": "code",
   "execution_count": 2,
   "id": "efeb6690-ec6c-4a4b-8b4b-6682f64ceb79",
   "metadata": {},
   "outputs": [],
   "source": [
    "data_df = pd.read_pickle(\"1-63-60-beam_DF.pkl\")\n",
    "MIP_df = pd.read_pickle(\"MIP_DF.pkl\")\n",
    "Ratio_df = pd.read_pickle(\"63_60_Ratio_DF.pkl\")"
   ]
  },
  {
   "cell_type": "code",
   "execution_count": 3,
   "id": "340c38d8-249e-42e0-9b22-7447250444ac",
   "metadata": {},
   "outputs": [
    {
     "name": "stdout",
     "output_type": "stream",
     "text": [
      "   event  channel   HG   LG  CAEN_brd  CAEN_ch  CAEN  HG_ped_corr  \\\n",
      "0      0        0  119  102         0        0     0          0.0   \n",
      "1      0        1  115  108         0        1     0          0.0   \n",
      "2      0        2  108   94         0        2     0          0.0   \n",
      "3      0        3  140   98         0        3     0          0.0   \n",
      "4      0        4  142  108         0        4     0          0.0   \n",
      "\n",
      "   LG_ped_corr      x     y    z  layer  layer_ch  energy_MIP  \n",
      "0          0.0  -85.4 -85.4  0.0    0.0       0.0         0.0  \n",
      "1          0.0  -36.6 -85.4  0.0    0.0       1.0         0.0  \n",
      "2          0.0   12.2 -85.4  0.0    0.0       2.0         0.0  \n",
      "3          0.0   61.0 -85.4  0.0    0.0       3.0         0.0  \n",
      "4          0.0  109.8 -85.4  0.0    0.0       4.0         0.0  \n"
     ]
    }
   ],
   "source": [
    "# Drop any conflicting columns before mergin\n",
    "conflicting_mip_cols = set(data_df.columns).intersection(MIP_df.columns) - {\"channel\"}\n",
    "conflicting_ratio_cols = set(data_df.columns).intersection(Ratio_df.columns) - {\"channel\"}\n",
    "\n",
    "MIP_df = MIP_df.drop(columns=conflicting_mip_cols)\n",
    "Ratio_df = Ratio_df.drop(columns=conflicting_ratio_cols)\n",
    "\n",
    "# Merge with data_df\n",
    "merged_df = data_df.merge(MIP_df, on=\"channel\", how=\"left\")\n",
    "merged_df = merged_df.merge(Ratio_df, on=\"channel\", how=\"left\")\n",
    "\n",
    "# Compute energy_MIP\n",
    "merged_df[\"energy_MIP\"] = merged_df[\"LG_ped_corr\"] * merged_df[\"GainRatio\"] / merged_df[\"MIPs\"]\n",
    "\n",
    "# Drop intermediate columns\n",
    "merged_df.drop(columns=[\"MIPs\", \"GainRatio\"], inplace=True)\n",
    "\n",
    "print(merged_df.head())"
   ]
  },
  {
   "cell_type": "code",
   "execution_count": 4,
   "id": "bedb7ceb-4825-46f6-b6db-8b8011dd4744",
   "metadata": {},
   "outputs": [],
   "source": [
    "with open('1-63-60-beam_DF.pkl', 'wb') as f:\n",
    "    pickle.dump(merged_df, f)"
   ]
  },
  {
   "cell_type": "code",
   "execution_count": null,
   "id": "52d208dd-cb58-402d-8506-cc91ba97ff82",
   "metadata": {},
   "outputs": [],
   "source": []
  }
 ],
 "metadata": {
  "kernelspec": {
   "display_name": "Python 3 (ipykernel)",
   "language": "python",
   "name": "python3"
  },
  "language_info": {
   "codemirror_mode": {
    "name": "ipython",
    "version": 3
   },
   "file_extension": ".py",
   "mimetype": "text/x-python",
   "name": "python",
   "nbconvert_exporter": "python",
   "pygments_lexer": "ipython3",
   "version": "3.12.7"
  }
 },
 "nbformat": 4,
 "nbformat_minor": 5
}
