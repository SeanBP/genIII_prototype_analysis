{
 "cells": [
  {
   "cell_type": "code",
   "execution_count": 19,
   "id": "59686af7",
   "metadata": {},
   "outputs": [],
   "source": [
    "import os\n",
    "import numpy as np\n",
    "import pandas as pd\n",
    "import matplotlib.pyplot as plt\n",
    "import mplhep as hep\n",
    "from iminuit import Minuit\n",
    "from iminuit.cost import LeastSquares\n",
    "import pickle\n",
    "import uproot as ur\n",
    "import re"
   ]
  },
  {
   "cell_type": "code",
   "execution_count": 2,
   "id": "8a0e3a7f",
   "metadata": {},
   "outputs": [],
   "source": [
    "with open(\"LG63HG63Ped.pkl\", 'rb') as file:\n",
    "    ped = pickle.load(file)\n",
    "with open(\"MIPs.pkl\", 'rb') as file:\n",
    "    mip = pickle.load(file)\n",
    "with open(\"HG63LG63Ratio.pkl\", 'rb') as file:\n",
    "    ratio = pickle.load(file)\n",
    "with open(\"geometry.pkl\", 'rb') as file:\n",
    "    geometry = pickle.load(file)"
   ]
  },
  {
   "cell_type": "code",
   "execution_count": 54,
   "id": "deed6570",
   "metadata": {},
   "outputs": [],
   "source": [
    "input_file = f'beam_data/run2.root'\n",
    "\n",
    "events = ur.open(\"%s:raw\"%(input_file))"
   ]
  },
  {
   "cell_type": "code",
   "execution_count": 55,
   "id": "943b251c",
   "metadata": {},
   "outputs": [],
   "source": [
    "beam = {}\n",
    "\n",
    "for ch_key in events.keys():\n",
    "    match = re.match(r\"ch_(\\d+)\", ch_key)\n",
    "    if not match:\n",
    "        continue\n",
    "\n",
    "    ID = int(match.group(1))\n",
    "    values = np.array(events[ch_key])  # (n_events, 2) — each row is (LG, HG)\n",
    "\n",
    "    # Initialize lists\n",
    "    if f\"{ID}_LG\" not in beam:\n",
    "        beam[f\"{ID}_LG\"] = []\n",
    "        beam[f\"{ID}_HG\"] = []\n",
    "\n",
    "    for i, (LG, HG) in enumerate(values):\n",
    "        beam[f\"{ID}_LG\"].append(float(LG))\n",
    "        beam[f\"{ID}_HG\"].append(float(HG))"
   ]
  },
  {
   "cell_type": "code",
   "execution_count": 67,
   "id": "3a6055b1",
   "metadata": {},
   "outputs": [
    {
     "data": {
      "text/plain": [
       "Text(0, 0.5, 'Count')"
      ]
     },
     "execution_count": 67,
     "metadata": {},
     "output_type": "execute_result"
    },
    {
     "data": {
      "image/png": "[encoded data removed]",
      "text/plain": [
       "<Figure size 432x288 with 1 Axes>"
      ]
     },
     "metadata": {
      "needs_background": "light"
     },
     "output_type": "display_data"
    }
   ],
   "source": [
    "data = np.array(beam[\"12_LG\"])\n",
    "counts, bin_edges = np.histogram(data, bins=1000, range=[0, 1000])\n",
    "bin_centers = (bin_edges[:-1] + bin_edges[1:]) / 2\n",
    "errors = np.sqrt(counts)\n",
    "plt.errorbar(bin_centers, counts, yerr=errors, fmt='o')\n",
    "plt.yscale('log')\n",
    "#plt.ylim(1,25)\n",
    "plt.xlabel(\"ADC\")\n",
    "plt.ylabel(\"Count\")\n"
   ]
  },
  {
   "cell_type": "code",
   "execution_count": 40,
   "id": "7efc80df",
   "metadata": {},
   "outputs": [
    {
     "name": "stdout",
     "output_type": "stream",
     "text": [
      "[56.0, 50.0, 41.0, 63.0, 54.0, 48.0, 50.0, 55.0, 48.0, 48.0, 64.0, 54.0, 47.0, 60.0, 75.0, 61.0, 66.0, 58.0, 58.0, 65.0, 38.0, 60.0, 49.0, 36.0, 55.0, 62.0, 72.0, 53.0, 62.0, 34.0, 62.0, 54.0, 56.0, 66.0, 58.0, 48.0, 55.0, 59.0, 71.0, 72.0, 67.0, 63.0, 64.0, 90.0, 65.0, 55.0, 59.0, 57.0, 53.0, 43.0, 60.0, 44.0, 76.0, 79.0, 53.0, 65.0, 59.0, 78.0, 64.0, 52.0, 55.0, 59.0, 61.0, 55.0, 57.0, 64.0, 43.0, 50.0, 61.0, 67.0, 47.0, 57.0, 56.0, 72.0, 51.0, 61.0, 57.0, 70.0, 47.0, 79.0, 39.0, 68.0, 46.0, 51.0, 58.0, 75.0, 38.0, 57.0, 65.0, 64.0, 56.0, 71.0, 56.0, 60.0, 42.0, 72.0, 59.0, 56.0, 67.0, 74.0, 61.0, 48.0, 57.0, 50.0, 56.0, 60.0, 62.0, 56.0, 46.0, 55.0, 63.0, 58.0, 50.0, 113.0, 65.0, 62.0, 59.0, 82.0, 54.0, 77.0, 66.0, 55.0, 55.0, 52.0, 49.0, 44.0, 48.0, 62.0, 71.0, 62.0, 57.0, 63.0, 58.0, 58.0, 66.0, 64.0, 53.0, 31.0, 47.0, 49.0, 65.0, 59.0, 64.0, 58.0, 43.0, 61.0, 77.0, 43.0, 66.0, 49.0, 56.0, 45.0, 61.0, 37.0, 60.0, 53.0, 66.0, 56.0, 61.0, 67.0, 54.0, 44.0, 56.0, 50.0, 64.0, 73.0, 56.0, 51.0, 58.0, 55.0, 57.0, 61.0, 45.0, 46.0, 61.0, 59.0, 66.0, 64.0, 51.0, 56.0, 47.0, 71.0, 58.0, 67.0, 62.0, 66.0, 51.0, 56.0, 70.0, 61.0, 60.0, 61.0, 67.0, 45.0, 58.0, 40.0, 41.0, 38.0, 51.0, 59.0, 56.0, 50.0, 53.0, 55.0, 64.0, 45.0, 61.0, 48.0, 49.0, 49.0, 61.0, 45.0, 66.0, 70.0, 56.0, 51.0, 49.0, 49.0, 39.0, 58.0, 48.0, 57.0, 68.0, 54.0, 50.0, 50.0, 64.0, 60.0, 53.0, 63.0, 57.0, 53.0, 50.0, 47.0, 54.0, 60.0, 55.0, 69.0, 92.0, 59.0, 62.0, 71.0, 41.0, 52.0, 54.0, 55.0, 57.0, 62.0, 50.0, 54.0, 68.0, 51.0, 40.0, 66.0, 65.0, 50.0, 56.0, 56.0, 63.0, 60.0, 50.0, 66.0, 76.0, 67.0, 70.0, 55.0, 61.0, 49.0, 55.0, 51.0, 54.0, 51.0, 59.0, 87.0, 53.0, 50.0, 32.0, 71.0, 50.0, 53.0, 51.0, 49.0, 46.0, 39.0, 51.0, 60.0, 58.0, 69.0, 53.0, 64.0, 44.0, 54.0, 65.0, 52.0, 54.0, 66.0, 53.0, 68.0, 57.0, 37.0, 60.0, 45.0, 66.0, 58.0, 68.0, 62.0, 51.0, 66.0, 65.0, 71.0, 69.0, 71.0, 64.0, 67.0, 56.0, 52.0, 41.0, 42.0, 56.0, 58.0, 54.0, 65.0, 54.0, 68.0, 49.0, 67.0, 61.0, 56.0, 62.0, 54.0, 57.0, 66.0, 52.0, 52.0, 64.0, 64.0, 54.0, 58.0, 63.0, 48.0, 62.0, 72.0, 59.0, 73.0, 65.0, 65.0, 67.0, 72.0, 71.0, 50.0, 67.0, 59.0, 50.0, 61.0, 59.0, 54.0, 56.0, 53.0, 59.0, 53.0, 55.0, 51.0, 48.0, 71.0, 53.0, 45.0, 61.0, 49.0, 59.0, 57.0, 56.0, 69.0, 62.0, 62.0, 54.0, 59.0, 52.0, 54.0, 64.0, 57.0, 59.0, 58.0, 74.0, 61.0, 60.0, 65.0, 50.0, 60.0, 51.0, 43.0, 52.0, 68.0, 67.0, 68.0, 52.0, 63.0, 63.0, 49.0, 36.0, 73.0, 51.0, 53.0, 43.0, 49.0, 61.0, 72.0, 52.0, 66.0, 53.0, 62.0, 46.0, 58.0, 48.0, 55.0, 58.0, 65.0, 54.0, 49.0, 50.0, 57.0, 52.0, 51.0, 49.0, 54.0, 61.0, 50.0, 43.0, 55.0, 65.0, 60.0, 73.0, 76.0, 50.0, 65.0, 42.0, 59.0, 58.0, 70.0, 53.0, 61.0, 87.0, 47.0, 57.0, 58.0, 59.0, 44.0, 56.0, 57.0, 45.0, 57.0, 43.0, 59.0, 66.0, 52.0, 67.0, 70.0, 70.0, 71.0, 63.0, 49.0, 60.0, 61.0, 58.0, 54.0, 45.0, 46.0, 60.0, 44.0, 77.0, 55.0, 58.0, 60.0, 66.0, 57.0, 57.0, 61.0, 51.0, 62.0, 64.0, 50.0, 49.0, 52.0, 51.0, 60.0, 55.0, 42.0, 51.0, 81.0, 49.0, 54.0, 47.0, 58.0, 60.0, 44.0, 47.0, 65.0, 46.0, 47.0, 68.0, 63.0, 54.0, 61.0, 53.0, 74.0, 57.0, 48.0, 59.0, 52.0, 65.0, 50.0, 72.0, 59.0, 61.0, 49.0, 64.0, 63.0, 52.0, 52.0, 52.0, 53.0, 79.0, 91.0, 51.0, 68.0, 61.0, 47.0, 58.0, 55.0, 60.0, 64.0, 45.0, 61.0, 46.0, 57.0, 57.0, 64.0, 76.0, 65.0, 49.0, 41.0, 67.0, 48.0, 45.0, 69.0, 47.0, 46.0, 68.0, 49.0, 63.0, 84.0, 63.0, 53.0, 50.0, 55.0, 52.0, 55.0, 54.0, 57.0, 62.0, 52.0, 55.0, 61.0, 57.0, 60.0, 64.0, 64.0, 72.0, 35.0, 53.0, 56.0, 77.0, 47.0, 50.0, 46.0, 63.0, 53.0, 48.0, 59.0, 49.0, 58.0, 65.0, 56.0, 51.0, 67.0, 51.0, 49.0, 54.0, 42.0, 62.0, 48.0, 55.0, 48.0, 55.0, 57.0, 45.0, 60.0, 72.0, 61.0, 51.0, 61.0, 59.0, 58.0, 57.0, 47.0, 40.0, 58.0, 48.0, 57.0, 53.0, 62.0, 60.0, 48.0, 61.0, 59.0, 70.0, 63.0, 46.0, 71.0, 60.0, 70.0, 64.0, 69.0, 54.0, 68.0, 70.0, 67.0, 59.0, 58.0, 59.0, 83.0, 72.0, 48.0, 44.0, 48.0, 55.0, 62.0, 44.0, 56.0, 64.0, 65.0, 53.0, 57.0, 51.0, 60.0, 68.0, 58.0, 72.0, 62.0, 53.0, 54.0, 62.0, 54.0, 48.0, 60.0, 55.0, 71.0, 47.0, 59.0, 60.0, 55.0, 47.0, 49.0, 43.0, 52.0, 59.0, 45.0, 55.0, 63.0, 62.0, 61.0, 69.0, 66.0, 58.0, 80.0, 47.0, 52.0, 64.0, 56.0, 73.0, 44.0, 62.0, 53.0, 79.0, 42.0, 51.0, 57.0, 61.0, 67.0, 63.0, 58.0, 54.0, 62.0, 47.0, 40.0, 66.0, 60.0, 53.0, 65.0, 54.0, 71.0, 55.0, 56.0, 59.0, 50.0, 45.0, 47.0, 51.0, 46.0, 67.0, 57.0, 56.0, 71.0, 48.0, 57.0, 48.0, 51.0, 61.0, 55.0, 53.0, 56.0, 53.0, 63.0, 63.0, 53.0, 50.0, 47.0, 63.0, 55.0, 52.0, 51.0, 48.0, 54.0, 62.0, 67.0, 73.0, 57.0, 52.0, 59.0, 63.0, 49.0, 65.0, 54.0, 53.0, 82.0, 55.0, 68.0, 33.0, 54.0, 72.0, 55.0, 56.0, 52.0, 45.0, 56.0, 53.0, 67.0, 54.0, 51.0, 58.0, 44.0, 59.0, 69.0, 57.0, 80.0, 53.0, 54.0, 61.0, 57.0, 53.0, 53.0, 63.0, 50.0, 78.0, 53.0, 56.0, 62.0, 69.0, 61.0, 55.0, 57.0, 77.0, 63.0, 47.0, 38.0, 60.0, 48.0, 55.0, 74.0, 55.0, 74.0, 58.0, 88.0, 52.0, 45.0, 51.0, 52.0, 45.0, 67.0, 57.0, 71.0, 49.0, 78.0, 67.0, 63.0, 46.0, 68.0, 65.0, 53.0, 50.0, 61.0, 83.0, 49.0, 41.0, 64.0, 69.0, 56.0, 50.0, 65.0, 57.0, 58.0, 61.0, 51.0, 72.0, 46.0, 53.0, 56.0, 80.0, 72.0, 54.0, 57.0, 68.0, 59.0, 49.0, 48.0, 60.0, 62.0, 51.0, 55.0, 61.0, 73.0, 64.0, 65.0, 51.0, 58.0, 66.0, 66.0, 57.0, 65.0, 56.0, 55.0, 66.0, 53.0, 55.0, 68.0, 69.0, 47.0, 63.0, 43.0, 66.0, 61.0, 69.0, 45.0, 51.0, 42.0, 47.0, 55.0, 57.0, 46.0, 65.0, 60.0, 40.0, 57.0, 63.0, 64.0, 72.0, 53.0, 56.0, 76.0, 58.0, 60.0, 72.0, 73.0, 65.0, 67.0, 51.0, 68.0, 56.0, 69.0, 59.0, 48.0, 44.0, 67.0, 44.0, 47.0, 59.0, 58.0, 60.0, 56.0, 60.0, 83.0, 67.0, 54.0, 62.0, 54.0, 48.0, 68.0, 64.0, 64.0, 66.0, 68.0, 49.0, 65.0, 89.0, 64.0, 57.0, 54.0, 49.0, 71.0, 45.0, 54.0, 52.0, 76.0, 60.0, 53.0, 58.0, 62.0, 58.0, 43.0, 63.0, 70.0, 65.0, 48.0, 55.0, 50.0, 61.0, 50.0, 64.0, 53.0, 50.0, 52.0, 63.0, 45.0, 69.0, 55.0, 63.0, 59.0, 79.0, 55.0, 41.0, 58.0, 53.0, 49.0, 79.0, 63.0, 53.0, 42.0, 46.0, 62.0, 59.0, 76.0, 55.0, 35.0, 55.0, 42.0, 61.0, 63.0, 62.0, 65.0, 70.0, 62.0, 58.0, 59.0, 50.0, 59.0, 55.0, 56.0, 46.0, 59.0, 67.0, 49.0, 58.0, 54.0, 59.0, 62.0, 100.0, 49.0, 59.0, 53.0, 51.0, 59.0, 44.0, 66.0, 44.0, 52.0, 63.0, 62.0, 62.0, 62.0, 74.0, 63.0, 68.0, 54.0, 52.0, 56.0, 45.0, 36.0, 60.0, 42.0, 68.0, 56.0, 55.0, 55.0, 65.0, 61.0, 68.0, 59.0, 58.0, 55.0, 36.0, 56.0, 65.0, 63.0, 69.0, 49.0, 49.0, 61.0, 51.0, 69.0, 56.0, 62.0, 52.0, 51.0, 57.0, 52.0, 55.0, 70.0, 63.0, 53.0, 48.0, 71.0, 57.0, 40.0, 73.0, 51.0, 53.0, 43.0, 64.0, 69.0, 82.0, 56.0, 48.0, 67.0, 48.0, 59.0, 49.0, 68.0, 44.0, 58.0, 64.0, 61.0, 66.0, 43.0, 61.0, 50.0, 51.0, 72.0, 58.0, 57.0, 49.0, 73.0, 46.0, 61.0, 47.0, 58.0, 53.0, 66.0, 65.0, 58.0, 58.0, 45.0, 51.0, 64.0, 59.0, 61.0, 62.0, 56.0, 64.0, 74.0, 58.0, 49.0, 80.0, 50.0, 58.0, 55.0, 54.0, 49.0, 62.0, 55.0, 50.0, 45.0, 72.0, 65.0, 68.0, 68.0, 58.0, 80.0, 40.0, 63.0, 59.0, 62.0, 50.0, 63.0, 69.0, 63.0, 47.0, 50.0, 67.0, 54.0, 68.0, 69.0, 58.0, 48.0, 65.0, 69.0, 67.0, 52.0, 45.0, 66.0, 79.0, 69.0, 46.0, 58.0, 82.0, 74.0, 54.0, 59.0, 71.0, 60.0, 72.0, 51.0, 52.0, 59.0, 54.0, 59.0, 56.0, 60.0, 54.0, 55.0, 50.0, 63.0, 65.0, 42.0, 52.0, 59.0, 60.0, 64.0, 55.0, 59.0, 58.0, 61.0, 69.0, 62.0, 56.0, 55.0, 42.0, 73.0, 51.0, 43.0, 66.0, 63.0, 67.0, 59.0, 52.0, 59.0, 56.0, 60.0, 60.0, 62.0, 54.0, 50.0, 53.0, 53.0, 57.0, 67.0, 54.0, 72.0, 49.0, 60.0, 68.0, 89.0, 61.0, 59.0, 65.0, 70.0, 74.0, 62.0, 68.0, 50.0, 55.0, 68.0, 65.0, 52.0, 67.0, 61.0, 65.0, 64.0, 53.0, 49.0, 58.0, 84.0, 36.0, 61.0, 53.0, 55.0, 57.0, 62.0, 65.0, 40.0, 44.0, 71.0, 73.0, 61.0, 61.0, 61.0, 65.0, 58.0, 66.0, 50.0, 58.0, 57.0, 52.0, 47.0, 60.0, 50.0, 59.0, 75.0, 63.0, 53.0, 58.0, 47.0, 46.0, 53.0, 65.0, 44.0, 68.0, 42.0, 48.0, 47.0, 67.0, 65.0, 54.0, 68.0, 54.0, 71.0, 67.0, 55.0, 54.0, 70.0, 66.0, 56.0, 56.0, 56.0, 58.0, 72.0, 60.0, 56.0, 62.0, 54.0, 53.0, 79.0, 55.0, 48.0, 59.0, 53.0, 73.0, 69.0, 51.0, 58.0, 46.0, 71.0, 59.0, 39.0, 65.0, 62.0, 73.0, 70.0, 71.0, 61.0, 51.0, 57.0, 51.0, 66.0, 54.0, 40.0, 52.0, 62.0, 50.0, 59.0, 67.0, 47.0, 68.0, 69.0, 49.0, 56.0, 57.0, 60.0, 61.0, 56.0, 61.0, 43.0, 77.0, 57.0, 50.0, 54.0, 64.0, 63.0, 67.0, 48.0, 51.0, 57.0, 64.0, 47.0, 53.0, 49.0, 57.0, 67.0, 46.0, 57.0, 55.0, 43.0, 56.0, 51.0, 50.0, 67.0, 56.0, 63.0, 54.0, 52.0, 62.0, 60.0, 60.0, 61.0, 51.0, 49.0, 52.0, 70.0, 54.0, 47.0, 68.0, 53.0, 58.0, 58.0, 52.0, 36.0, 53.0, 59.0, 64.0, 67.0, 68.0, 49.0, 57.0, 50.0, 60.0, 52.0, 58.0, 59.0, 48.0, 80.0, 68.0, 70.0, 68.0, 54.0, 40.0, 57.0, 60.0, 62.0, 69.0, 64.0, 63.0, 60.0, 58.0, 42.0, 68.0, 64.0, 70.0, 61.0, 59.0, 58.0, 47.0, 71.0, 58.0, 52.0, 57.0, 63.0, 49.0, 58.0, 64.0, 61.0, 57.0, 50.0, 49.0, 50.0, 68.0, 59.0, 49.0, 42.0, 54.0, 63.0, 68.0, 68.0, 49.0, 78.0, 62.0, 57.0, 60.0, 61.0, 57.0, 63.0, 52.0, 62.0, 67.0, 59.0, 62.0, 50.0, 56.0, 49.0, 57.0, 45.0, 53.0, 58.0, 50.0, 63.0, 52.0, 59.0, 48.0, 56.0, 70.0, 67.0, 65.0, 57.0, 52.0, 61.0, 47.0, 41.0, 46.0, 50.0, 45.0, 62.0, 81.0, 68.0, 55.0, 44.0, 45.0, 44.0, 69.0, 57.0, 78.0, 63.0, 47.0, 54.0, 49.0, 46.0, 53.0, 70.0, 79.0, 47.0, 62.0, 76.0, 65.0, 47.0, 57.0, 50.0, 63.0, 52.0, 47.0, 59.0, 60.0, 59.0, 59.0, 65.0, 55.0, 53.0, 66.0, 54.0, 68.0, 59.0, 71.0, 60.0, 61.0, 49.0, 58.0, 47.0, 45.0, 59.0, 55.0, 55.0, 65.0, 47.0, 51.0, 69.0, 45.0, 68.0, 63.0, 70.0, 57.0, 70.0, 61.0, 62.0, 58.0, 63.0, 76.0, 53.0, 57.0, 44.0, 53.0, 66.0, 62.0, 56.0, 56.0, 54.0, 58.0, 64.0, 58.0, 73.0, 49.0, 60.0, 55.0, 63.0, 46.0, 63.0, 63.0, 62.0, 60.0, 65.0, 62.0, 33.0, 80.0, 50.0, 55.0, 45.0, 51.0, 57.0, 64.0, 68.0, 57.0, 53.0, 50.0, 46.0, 63.0, 60.0, 67.0, 76.0, 63.0, 61.0, 57.0, 63.0, 52.0, 58.0, 56.0, 65.0, 60.0, 52.0, 64.0, 57.0, 54.0, 64.0, 73.0, 59.0, 61.0, 61.0, 56.0, 46.0, 48.0, 70.0, 64.0, 55.0, 32.0, 57.0, 66.0, 52.0, 58.0, 54.0, 52.0, 69.0, 52.0, 46.0, 59.0, 69.0, 61.0, 48.0, 41.0, 59.0, 49.0, 46.0, 62.0, 52.0, 55.0, 65.0, 70.0, 59.0, 60.0, 53.0, 52.0, 55.0, 76.0, 56.0, 61.0, 59.0, 67.0, 63.0, 61.0, 63.0, 58.0, 67.0, 77.0, 53.0, 61.0, 62.0, 52.0, 56.0, 48.0, 50.0, 44.0, 64.0, 46.0, 68.0, 67.0, 73.0, 59.0, 72.0, 55.0, 56.0, 42.0, 75.0, 71.0, 61.0, 80.0, 46.0, 64.0, 66.0, 45.0, 52.0, 60.0, 50.0, 65.0, 55.0, 41.0, 46.0, 67.0, 83.0, 60.0, 68.0, 60.0, 68.0, 50.0, 62.0, 52.0, 45.0, 65.0, 68.0, 67.0, 43.0, 71.0, 57.0, 60.0, 64.0, 49.0, 70.0, 64.0, 52.0, 53.0, 54.0, 61.0, 38.0, 69.0, 51.0, 53.0, 73.0, 63.0, 54.0, 53.0, 71.0, 60.0, 59.0, 57.0, 61.0, 63.0, 72.0, 61.0, 74.0, 66.0, 48.0, 62.0, 54.0, 53.0, 97.0, 62.0, 45.0, 50.0, 76.0, 48.0, 79.0, 66.0, 54.0, 62.0, 53.0, 58.0, 56.0, 63.0, 55.0, 59.0, 53.0, 42.0, 57.0, 56.0, 56.0, 49.0, 63.0, 60.0, 44.0, 61.0, 69.0, 69.0, 75.0, 55.0, 54.0, 63.0, 71.0, 63.0, 59.0, 66.0, 51.0, 63.0, 52.0, 46.0, 74.0, 42.0, 47.0, 56.0, 66.0, 49.0, 52.0, 59.0, 55.0, 61.0, 61.0, 47.0, 68.0, 39.0, 68.0, 76.0, 64.0, 55.0, 85.0, 41.0, 73.0, 56.0, 57.0, 47.0, 52.0, 59.0, 61.0, 69.0, 51.0, 42.0, 56.0, 56.0, 62.0, 58.0, 90.0, 63.0, 58.0, 51.0, 87.0, 50.0, 65.0, 42.0, 43.0, 70.0, 61.0, 42.0, 43.0, 67.0, 55.0, 44.0, 62.0, 68.0, 57.0, 60.0, 66.0, 42.0, 55.0, 54.0, 62.0, 59.0, 56.0, 49.0, 67.0, 63.0, 48.0, 58.0, 51.0, 36.0, 48.0, 61.0, 74.0, 47.0, 69.0, 49.0, 97.0, 55.0, 50.0, 51.0, 60.0, 63.0, 57.0, 83.0, 54.0, 70.0, 65.0, 53.0, 58.0, 57.0, 63.0, 53.0, 50.0, 60.0, 49.0, 51.0, 58.0, 65.0, 69.0, 56.0, 59.0, 61.0, 44.0, 52.0, 49.0, 58.0, 53.0, 83.0, 55.0, 58.0, 60.0, 55.0, 59.0, 39.0, 64.0, 67.0, 49.0, 84.0, 69.0, 58.0, 83.0, 53.0, 48.0, 53.0, 57.0, 51.0, 55.0, 57.0, 63.0, 47.0, 73.0, 58.0, 68.0, 64.0, 60.0, 53.0, 45.0, 49.0, 60.0, 59.0, 81.0, 60.0, 58.0, 60.0, 58.0, 73.0, 59.0, 61.0, 62.0, 66.0, 64.0, 61.0, 44.0, 71.0, 65.0, 61.0, 54.0, 37.0, 68.0, 55.0, 47.0, 59.0, 64.0, 60.0, 49.0, 51.0, 62.0, 63.0, 60.0, 64.0, 57.0, 59.0, 67.0, 53.0, 54.0, 52.0, 73.0, 55.0, 50.0, 52.0, 45.0, 57.0, 53.0, 60.0, 58.0, 57.0, 59.0, 66.0, 52.0, 60.0, 50.0, 56.0, 57.0, 54.0, 57.0, 64.0, 72.0, 56.0, 54.0, 62.0, 63.0, 53.0, 48.0, 48.0, 61.0, 55.0, 80.0, 58.0, 63.0, 62.0, 53.0, 60.0, 54.0, 54.0, 66.0, 70.0, 72.0, 51.0, 62.0, 62.0, 63.0, 51.0, 51.0, 64.0, 60.0, 59.0, 48.0, 54.0, 55.0, 68.0, 45.0, 43.0, 59.0, 69.0, 61.0, 65.0, 67.0, 44.0, 61.0, 56.0, 55.0, 40.0, 54.0, 48.0, 56.0, 60.0, 58.0, 62.0, 53.0, 81.0, 52.0, 40.0, 62.0, 57.0, 73.0, 77.0, 43.0, 64.0, 78.0, 64.0, 47.0, 53.0, 54.0, 62.0, 66.0, 51.0, 49.0, 45.0, 63.0, 44.0, 51.0, 52.0, 80.0, 49.0, 39.0, 56.0, 53.0, 66.0, 50.0, 57.0, 54.0, 65.0, 54.0, 42.0, 59.0, 57.0, 62.0, 67.0, 83.0, 56.0, 60.0, 50.0, 56.0, 67.0, 51.0, 60.0, 47.0, 74.0, 65.0, 63.0, 52.0, 57.0, 58.0, 54.0, 62.0, 44.0, 64.0, 49.0, 64.0, 61.0, 63.0, 51.0, 63.0, 61.0, 45.0, 56.0, 63.0, 72.0, 60.0, 57.0, 55.0, 46.0, 63.0, 64.0, 72.0, 53.0, 76.0, 72.0, 56.0, 53.0, 55.0, 59.0, 86.0, 48.0, 62.0, 56.0, 50.0, 54.0, 62.0, 58.0, 58.0, 32.0, 60.0, 53.0, 42.0, 58.0, 69.0, 58.0, 48.0, 52.0, 52.0, 68.0, 52.0, 49.0, 54.0, 54.0, 58.0, 39.0, 53.0, 43.0, 51.0, 53.0, 96.0, 44.0, 65.0, 56.0, 58.0, 47.0, 76.0, 48.0, 54.0, 52.0, 49.0, 67.0, 63.0, 54.0, 57.0, 44.0, 67.0, 59.0, 93.0, 52.0, 58.0, 48.0, 47.0, 54.0, 57.0, 72.0, 59.0, 69.0, 59.0, 57.0, 62.0, 57.0, 53.0, 62.0, 59.0]\n"
     ]
    }
   ],
   "source": [
    "print(beam['67_LG'])"
   ]
  },
  {
   "cell_type": "code",
   "execution_count": 45,
   "id": "ec3a2383",
   "metadata": {},
   "outputs": [],
   "source": [
    "def get_chIDs_by_layer(df, layer_number):\n",
    "    ch_ids = []\n",
    "    for ch_str in df[df['Layer'] == layer_number]['Ch#']:\n",
    "        CAEN, ch = map(int, ch_str.split('-'))\n",
    "        ch_id = ch + (64 * (CAEN - 1))\n",
    "        ch_ids.append(ch_id)\n",
    "    return ch_ids\n",
    "def get_LG_array_by_layer(geometry, din):\n",
    "    all_layers = sorted(geometry['Layer'].unique())\n",
    "    layer_data = []\n",
    "\n",
    "    for layer in all_layers:\n",
    "        ch_ids = get_chIDs_by_layer(geometry, layer)\n",
    "        combined = [din[f\"{ID}_LG\"] for ID in ch_ids if f\"{ID}_LG\" in din]\n",
    "        if combined:\n",
    "            layer_data.append(np.concatenate(combined))\n",
    "        else:\n",
    "            layer_data.append(np.array([]))  # empty array if no matches\n",
    "\n",
    "    return layer_data"
   ]
  },
  {
   "cell_type": "code",
   "execution_count": 46,
   "id": "d3b5c0a7",
   "metadata": {},
   "outputs": [],
   "source": [
    "beam_lg_mips = {}\n",
    "\n",
    "for i in range(64*6):  # Adjust range if needed\n",
    "    key_lg = f\"{i}_LG\"\n",
    "    \n",
    "    if key_lg in beam:\n",
    "        raw_values = beam[key_lg]\n",
    "        ped_mean = ped['LGPedMean'][i]\n",
    "        ped_sigma = ped['LGPedSigma'][i]\n",
    "        ratio_i = ratio[i]\n",
    "        mip_i = mip[i]\n",
    "\n",
    "        mips_values = []\n",
    "        for val in raw_values:\n",
    "            val_subtracted = val - ped_mean\n",
    "            # Apply suppression\n",
    "            if val_subtracted < 3 * ped_sigma:\n",
    "                mips_values.append(0)\n",
    "            else:\n",
    "                # Avoid division by zero\n",
    "                if ratio_i == 0 or mip_i == 0:\n",
    "                    \n",
    "                    mips_values.append(0)\n",
    "                else:\n",
    "                    val_mip = (val_subtracted * ratio_i) / mip_i\n",
    "                    mips_values.append(val_mip)\n",
    "        \n",
    "        beam_lg_mips[key_lg] = mips_values"
   ]
  },
  {
   "cell_type": "code",
   "execution_count": 54,
   "id": "e3bd2eb2",
   "metadata": {},
   "outputs": [],
   "source": [
    "with open('HG63LG63BeamCal2.pkl', 'wb') as f:\n",
    "    pickle.dump(beam_lg_mips, f)"
   ]
  },
  {
   "cell_type": "code",
   "execution_count": null,
   "id": "039a1862",
   "metadata": {},
   "outputs": [],
   "source": []
  }
 ],
 "metadata": {
  "kernelspec": {
   "display_name": "Python 3.10 (myenv)",
   "language": "python",
   "name": "myenv"
  },
  "language_info": {
   "codemirror_mode": {
    "name": "ipython",
    "version": 3
   },
   "file_extension": ".py",
   "mimetype": "text/x-python",
   "name": "python",
   "nbconvert_exporter": "python",
   "pygments_lexer": "ipython3",
   "version": "3.7.6"
  }
 },
 "nbformat": 4,
 "nbformat_minor": 5
}
