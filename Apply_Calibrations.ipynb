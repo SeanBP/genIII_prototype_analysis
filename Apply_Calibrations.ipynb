{
 "cells": [
  {
   "cell_type": "code",
   "execution_count": 1,
   "id": "59686af7",
   "metadata": {},
   "outputs": [],
   "source": [
    "import os\n",
    "import numpy as np\n",
    "import pandas as pd\n",
    "import matplotlib.pyplot as plt\n",
    "import mplhep as hep\n",
    "from iminuit import Minuit\n",
    "from iminuit.cost import LeastSquares\n",
    "import pickle\n",
    "import uproot as ur\n",
    "import re"
   ]
  },
  {
   "cell_type": "code",
   "execution_count": 15,
   "id": "8a0e3a7f",
   "metadata": {},
   "outputs": [],
   "source": [
    "with open(\"../../genIII_data/JLab/Ptrg/Ptrg1.pkl\", 'rb') as file:\n",
    "    ped = pickle.load(file)\n",
    "with open(\"../../genIII_data/JLab/Cosmic/Cosmic_MIPs.pkl\", 'rb') as file:\n",
    "    mip = pickle.load(file)\n",
    "with open(\"../../genIII_data/JLab/Beam/Beam1-HGLG.pkl\", 'rb') as file:\n",
    "    ratio = pickle.load(file)\n",
    "with open(\"geometry.pkl\", 'rb') as file:\n",
    "    geometry = pickle.load(file)"
   ]
  },
  {
   "cell_type": "code",
   "execution_count": 16,
   "id": "deed6570",
   "metadata": {},
   "outputs": [],
   "source": [
    "input_file = f\"../../genIII_data/JLab/Beam/Beam1_0.root\"\n",
    "\n",
    "events = ur.open(\"%s:raw\"%(input_file))"
   ]
  },
  {
   "cell_type": "code",
   "execution_count": 17,
   "id": "7558f7ba",
   "metadata": {},
   "outputs": [
    {
     "name": "stdout",
     "output_type": "stream",
     "text": [
      "91324\n"
     ]
    }
   ],
   "source": [
    "print(len(np.array(events['ch_0'])))"
   ]
  },
  {
   "cell_type": "code",
   "execution_count": 18,
   "id": "943b251c",
   "metadata": {},
   "outputs": [],
   "source": [
    "beam = {}\n",
    "\n",
    "for ch_key in events.keys():\n",
    "    match = re.match(r\"ch_(\\d+)\", ch_key)\n",
    "    if not match:\n",
    "        continue\n",
    "\n",
    "    ID = int(match.group(1))\n",
    "    values = np.array(events[ch_key])  # (n_events, 2) — each row is (LG, HG)\n",
    "\n",
    "    # Initialize lists\n",
    "    if f\"{ID}_LG\" not in beam:\n",
    "        beam[f\"{ID}_LG\"] = []\n",
    "        beam[f\"{ID}_HG\"] = []\n",
    "\n",
    "    for i, (LG, HG) in enumerate(values):\n",
    "        beam[f\"{ID}_LG\"].append(float(LG))\n",
    "        beam[f\"{ID}_HG\"].append(float(HG))"
   ]
  },
  {
   "cell_type": "code",
   "execution_count": 19,
   "id": "3a6055b1",
   "metadata": {},
   "outputs": [
    {
     "data": {
      "text/plain": [
       "Text(0, 0.5, 'Count')"
      ]
     },
     "execution_count": 19,
     "metadata": {},
     "output_type": "execute_result"
    },
    {
     "data": {
      "image/png": "[encoded data removed]",
      "text/plain": [
       "<Figure size 432x288 with 1 Axes>"
      ]
     },
     "metadata": {
      "needs_background": "light"
     },
     "output_type": "display_data"
    }
   ],
   "source": [
    "data = np.array(beam[\"12_LG\"])\n",
    "counts, bin_edges = np.histogram(data, bins=1000, range=[0, 1000])\n",
    "bin_centers = (bin_edges[:-1] + bin_edges[1:]) / 2\n",
    "errors = np.sqrt(counts)\n",
    "plt.errorbar(bin_centers, counts, yerr=errors, fmt='o')\n",
    "plt.yscale('log')\n",
    "plt.xlabel(\"ADC\")\n",
    "plt.ylabel(\"Count\")\n"
   ]
  },
  {
   "cell_type": "code",
   "execution_count": 20,
   "id": "f482135c",
   "metadata": {},
   "outputs": [
    {
     "name": "stdout",
     "output_type": "stream",
     "text": [
      "0.0\n",
      "10.950024090052999\n",
      "21.900048180105998\n",
      "32.850072270158996\n",
      "43.800096360211995\n",
      "54.750120450264994\n",
      "65.70014454031799\n",
      "76.65016863037098\n",
      "87.60019272042399\n",
      "98.55021681047698\n"
     ]
    }
   ],
   "source": [
    "num_channels = 64 * 6\n",
    "num_events = len(next(iter(beam.values())))\n",
    "\n",
    "# Compute the true channel number\n",
    "geometry[\"true_channel\"] = geometry[\"caen\"] * 64 + geometry[\"caen_channel\"]\n",
    "\n",
    "# Set index to true_channel for quick lookup\n",
    "df_positions = geometry.set_index(\"true_channel\")\n",
    "\n",
    "# Precompute valid channels that exist in both beam and geometry\n",
    "valid_channels = [\n",
    "    ch for ch in range(num_channels)\n",
    "    if f\"{ch}_LG\" in beam and ch in df_positions.index\n",
    "]\n",
    "valid_channels = np.array(valid_channels)\n",
    "\n",
    "# Precompute all static values for valid channels\n",
    "x_vals = np.array([df_positions.loc[ch]['x'] for ch in valid_channels])\n",
    "y_vals = np.array([df_positions.loc[ch]['y'] for ch in valid_channels])\n",
    "z_vals = np.array([df_positions.loc[ch]['z'] for ch in valid_channels])\n",
    "layers = np.array([df_positions.loc[ch]['layer'] for ch in valid_channels])\n",
    "chs = np.array([df_positions.loc[ch]['brd_channel'] for ch in valid_channels])\n",
    "ped_means = np.array([ped['LGPedMean'][ch] for ch in valid_channels])\n",
    "ped_sigmas = np.array([ped['LGPedSigma'][ch] for ch in valid_channels])\n",
    "ratios = np.array([ratio[ch] for ch in valid_channels])\n",
    "mips = np.array([mip[ch] for ch in valid_channels])\n",
    "\n",
    "# Stack x, y, z into one array\n",
    "positions = np.stack([x_vals, y_vals, z_vals, layers, chs], axis=1)\n",
    "\n",
    "beam_lg_mips = []\n",
    "\n",
    "# User-configurable settings\n",
    "range1 = np.arange(0, 24)    # First channel range\n",
    "range2 = np.arange(25, 49)   # Second channel range\n",
    "required_hits_range1 = 1     # Required hits in range 0–23\n",
    "threshold = 0.3             # MIP threshold\n",
    "\n",
    "for evt in range(num_events):\n",
    "    if evt % 10000 == 0:\n",
    "        print(100 * evt / num_events)\n",
    "\n",
    "    raw_vals = np.array([beam[f\"{ch}_LG\"][evt] for ch in valid_channels])\n",
    "    val_subtracted = raw_vals - ped_means\n",
    "\n",
    "    # Compute mask for valid hits\n",
    "    valid_mask = (\n",
    "        (val_subtracted >= threshold * ped_sigmas) &\n",
    "        (ratios != 0) &\n",
    "        (mips != 0)\n",
    "    )\n",
    "\n",
    "    # Compute MIPs where valid, else 0\n",
    "    mips_vals = np.zeros_like(val_subtracted)\n",
    "    mips_vals[valid_mask] = (val_subtracted[valid_mask] * ratios[valid_mask]) / mips[valid_mask]\n",
    "\n",
    "    # Get indices for each channel range in the valid_channels array\n",
    "    idx_range1 = np.where(np.isin(valid_channels, range1))[0]\n",
    "    idx_range2 = np.where(np.isin(valid_channels, range2))[0]\n",
    "\n",
    "    # Count how many channels in each range exceed the threshold\n",
    "    hits_range1 = np.sum(mips_vals[idx_range1] >= threshold)\n",
    "    hits_range2 = np.sum(mips_vals[idx_range2] >= threshold)\n",
    "\n",
    "    # Filter based on the required number of hits in each range\n",
    "    if hits_range1 == required_hits_range1:\n",
    "        beam_lg_mips.append(mips_vals)\n",
    "\n",
    "\n",
    "\n",
    "beam_lg_mips = np.array(beam_lg_mips, dtype=object)\n"
   ]
  },
  {
   "cell_type": "code",
   "execution_count": 21,
   "id": "c9ed08bb",
   "metadata": {},
   "outputs": [],
   "source": [
    "beam_data = {\n",
    "    'positions': positions,\n",
    "    'events': beam_lg_mips\n",
    "}"
   ]
  },
  {
   "cell_type": "code",
   "execution_count": 22,
   "id": "e3bd2eb2",
   "metadata": {},
   "outputs": [],
   "source": [
    "with open('../../genIII_data/JLab/Beam/Beam-Cal.pkl', 'wb') as f:\n",
    "    pickle.dump(beam_data, f)"
   ]
  },
  {
   "cell_type": "code",
   "execution_count": 14,
   "id": "04e8f780",
   "metadata": {},
   "outputs": [
    {
     "name": "stdout",
     "output_type": "stream",
     "text": [
      "0.011738875251652252\n"
     ]
    }
   ],
   "source": [
    "print(beam_lg_mips[5][25])\n"
   ]
  },
  {
   "cell_type": "code",
   "execution_count": null,
   "id": "1031fbe8",
   "metadata": {},
   "outputs": [],
   "source": []
  }
 ],
 "metadata": {
  "kernelspec": {
   "display_name": "Python 3.10 (myenv)",
   "language": "python",
   "name": "myenv"
  },
  "language_info": {
   "codemirror_mode": {
    "name": "ipython",
    "version": 3
   },
   "file_extension": ".py",
   "mimetype": "text/x-python",
   "name": "python",
   "nbconvert_exporter": "python",
   "pygments_lexer": "ipython3",
   "version": "3.7.6"
  }
 },
 "nbformat": 4,
 "nbformat_minor": 5
}
