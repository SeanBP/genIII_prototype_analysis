{
 "cells": [
  {
   "cell_type": "code",
   "execution_count": 4,
   "id": "59686af7",
   "metadata": {},
   "outputs": [],
   "source": [
    "import os\n",
    "import numpy as np\n",
    "import pandas as pd\n",
    "import matplotlib.pyplot as plt\n",
    "import mplhep as hep\n",
    "from iminuit import Minuit\n",
    "from iminuit.cost import LeastSquares\n",
    "import pickle\n",
    "import uproot as ur\n",
    "import re"
   ]
  },
  {
   "cell_type": "code",
   "execution_count": 14,
   "id": "8a0e3a7f",
   "metadata": {},
   "outputs": [],
   "source": [
    "with open(\"../../genIII_data/JLab/Ptrg/1-63-60-Ptrg.pkl\", 'rb') as file:\n",
    "    ped = pickle.load(file)\n",
    "with open(\"../../genIII_data/UCR/Cosmic/O9-63-60-Avg-MIPs.pkl\", 'rb') as file:\n",
    "    mip = pickle.load(file)\n",
    "with open(\"../../genIII_data/JLab/Beam/1-63-60-HGLG.pkl\", 'rb') as file:\n",
    "    ratio = pickle.load(file)\n",
    "with open(\"geometry.pkl\", 'rb') as file:\n",
    "    geometry = pickle.load(file)"
   ]
  },
  {
   "cell_type": "code",
   "execution_count": 9,
   "id": "deed6570",
   "metadata": {},
   "outputs": [],
   "source": [
    "input_file = f\"../../genIII_data/JLab/Beam/1-63-60-Beam.root\"\n",
    "\n",
    "events = ur.open(\"%s:raw\"%(input_file))"
   ]
  },
  {
   "cell_type": "code",
   "execution_count": 10,
   "id": "943b251c",
   "metadata": {},
   "outputs": [],
   "source": [
    "beam = {}\n",
    "\n",
    "for ch_key in events.keys():\n",
    "    match = re.match(r\"ch_(\\d+)\", ch_key)\n",
    "    if not match:\n",
    "        continue\n",
    "\n",
    "    ID = int(match.group(1))\n",
    "    values = np.array(events[ch_key])  # (n_events, 2) — each row is (LG, HG)\n",
    "\n",
    "    # Initialize lists\n",
    "    if f\"{ID}_LG\" not in beam:\n",
    "        beam[f\"{ID}_LG\"] = []\n",
    "        beam[f\"{ID}_HG\"] = []\n",
    "\n",
    "    for i, (LG, HG) in enumerate(values):\n",
    "        beam[f\"{ID}_LG\"].append(float(LG))\n",
    "        beam[f\"{ID}_HG\"].append(float(HG))"
   ]
  },
  {
   "cell_type": "code",
   "execution_count": 11,
   "id": "3a6055b1",
   "metadata": {},
   "outputs": [
    {
     "data": {
      "text/plain": [
       "Text(0, 0.5, 'Count')"
      ]
     },
     "execution_count": 11,
     "metadata": {},
     "output_type": "execute_result"
    },
    {
     "data": {
      "image/png": "[encoded data removed]",
      "text/plain": [
       "<Figure size 432x288 with 1 Axes>"
      ]
     },
     "metadata": {
      "needs_background": "light"
     },
     "output_type": "display_data"
    }
   ],
   "source": [
    "data = np.array(beam[\"12_LG\"])\n",
    "counts, bin_edges = np.histogram(data, bins=1000, range=[0, 1000])\n",
    "bin_centers = (bin_edges[:-1] + bin_edges[1:]) / 2\n",
    "errors = np.sqrt(counts)\n",
    "plt.errorbar(bin_centers, counts, yerr=errors, fmt='o')\n",
    "plt.yscale('log')\n",
    "#plt.ylim(1,25)\n",
    "plt.xlabel(\"ADC\")\n",
    "plt.ylabel(\"Count\")\n"
   ]
  },
  {
   "cell_type": "code",
   "execution_count": 12,
   "id": "ec3a2383",
   "metadata": {},
   "outputs": [],
   "source": [
    "def get_chIDs_by_layer(df, layer_number):\n",
    "    ch_ids = []\n",
    "    for ch_str in df[df['Layer'] == layer_number]['Ch#']:\n",
    "        CAEN, ch = map(int, ch_str.split('-'))\n",
    "        ch_id = ch + (64 * (CAEN - 1))\n",
    "        ch_ids.append(ch_id)\n",
    "    return ch_ids\n",
    "def get_LG_array_by_layer(geometry, din):\n",
    "    all_layers = sorted(geometry['Layer'].unique())\n",
    "    layer_data = []\n",
    "\n",
    "    for layer in all_layers:\n",
    "        ch_ids = get_chIDs_by_layer(geometry, layer)\n",
    "        combined = [din[f\"{ID}_LG\"] for ID in ch_ids if f\"{ID}_LG\" in din]\n",
    "        if combined:\n",
    "            layer_data.append(np.concatenate(combined))\n",
    "        else:\n",
    "            layer_data.append(np.array([]))  # empty array if no matches\n",
    "\n",
    "    return layer_data"
   ]
  },
  {
   "cell_type": "code",
   "execution_count": 31,
   "id": "f0221c84",
   "metadata": {},
   "outputs": [],
   "source": [
    "num_channels = 64 * 6\n",
    "num_events = len(next(iter(beam.values())))  # assumes all channels have same number of events\n",
    "\n",
    "# Convert geometry to lookup-friendly form\n",
    "geometry_lookup = geometry.set_index(\"Ch#\")\n",
    "\n",
    "# We'll fill this with lists first, then convert to np.array\n",
    "beam_lg_mips = []\n",
    "\n",
    "for evt in range(num_events):\n",
    "    event_data = []\n",
    "    for ch in range(num_channels):\n",
    "        key_lg = f\"{ch}_LG\"\n",
    "\n",
    "        if key_lg in beam:\n",
    "            raw_value = beam[key_lg][evt]\n",
    "            ped_mean = ped['LGPedMean'][ch]\n",
    "            ped_sigma = ped['LGPedSigma'][ch]\n",
    "            ratio_i = ratio[ch]\n",
    "            mip_i = mip[ch]\n",
    "\n",
    "            val_subtracted = raw_value - ped_mean\n",
    "            if val_subtracted < 3 * ped_sigma or ratio_i == 0 or mip_i == 0:\n",
    "                event_data.append([0, 0, 0, 0])\n",
    "            else:\n",
    "                lg_mip = (val_subtracted * ratio_i) / mip_i\n",
    "\n",
    "                # Only add if lg_mip > 0\n",
    "                if lg_mip > 0:\n",
    "                    if ch in geometry_lookup.index:\n",
    "                        x = geometry_lookup.at[ch, \"x\"]\n",
    "                        y = geometry_lookup.at[ch, \"y\"]\n",
    "                        z = geometry_lookup.at[ch, \"z\"]\n",
    "                        event_data.append([lg_mip, x, y, z])\n",
    "                    else:\n",
    "                        event_data.append([lg_mip, 0, 0, 0])\n",
    "                else:\n",
    "                    event_data.append([0, 0, 0, 0])\n",
    "        else:\n",
    "            event_data.append([0, 0, 0, 0])\n",
    "    beam_lg_mips.append(event_data)\n",
    "\n",
    "# Convert to NumPy array\n",
    "beam_lg_mips = np.array(beam_lg_mips)"
   ]
  },
  {
   "cell_type": "code",
   "execution_count": 38,
   "id": "5e8824f0",
   "metadata": {},
   "outputs": [
    {
     "name": "stdout",
     "output_type": "stream",
     "text": [
      "5293\n"
     ]
    }
   ],
   "source": [
    "print(len(beam_lg_mips))"
   ]
  },
  {
   "cell_type": "code",
   "execution_count": 35,
   "id": "e3bd2eb2",
   "metadata": {},
   "outputs": [],
   "source": [
    "with open('../../genIII_data/JLab/Beam/1-63-60-Beam-Cal.pkl', 'wb') as f:\n",
    "    pickle.dump(beam_lg_mips, f)"
   ]
  },
  {
   "cell_type": "code",
   "execution_count": null,
   "id": "ccaf3fce",
   "metadata": {},
   "outputs": [],
   "source": []
  }
 ],
 "metadata": {
  "kernelspec": {
   "display_name": "Python 3.10 (myenv)",
   "language": "python",
   "name": "myenv"
  },
  "language_info": {
   "codemirror_mode": {
    "name": "ipython",
    "version": 3
   },
   "file_extension": ".py",
   "mimetype": "text/x-python",
   "name": "python",
   "nbconvert_exporter": "python",
   "pygments_lexer": "ipython3",
   "version": "3.7.6"
  }
 },
 "nbformat": 4,
 "nbformat_minor": 5
}
