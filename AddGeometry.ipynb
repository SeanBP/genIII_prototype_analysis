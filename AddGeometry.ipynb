{
 "cells": [
  {
   "cell_type": "code",
   "execution_count": 1,
   "id": "1494113f",
   "metadata": {},
   "outputs": [],
   "source": [
    "import os\n",
    "import numpy as np\n",
    "import pandas as pd\n",
    "import matplotlib.pyplot as plt\n",
    "import mplhep as hep\n",
    "from iminuit import Minuit\n",
    "from iminuit.cost import LeastSquares\n",
    "import pickle\n",
    "import uproot as ur\n",
    "import re"
   ]
  },
  {
   "cell_type": "code",
   "execution_count": 2,
   "id": "e574e431",
   "metadata": {},
   "outputs": [],
   "source": [
    "raw_df = pd.read_pickle(\"1-63-60-beam_DF.pkl\")\n",
    "geo_df = pd.read_pickle(\"geometry_DF.pkl\")"
   ]
  },
  {
   "cell_type": "code",
   "execution_count": 3,
   "id": "abb798fb",
   "metadata": {},
   "outputs": [],
   "source": [
    "# Merge on the 'channel' column\n",
    "merged_df = pd.merge(\n",
    "    raw_df,\n",
    "    geo_df[[\"channel\", \"x\", \"y\", \"z\", \"layer\", \"layer_ch\"]],\n",
    "    on=\"channel\",\n",
    "    how=\"left\"  # Keep all rows from raw_df\n",
    ")"
   ]
  },
  {
   "cell_type": "code",
   "execution_count": 4,
   "id": "29010d56",
   "metadata": {},
   "outputs": [
    {
     "name": "stdout",
     "output_type": "stream",
     "text": [
      "         event  channel   HG   LG  CAEN_brd  CAEN_ch  CAEN  HG_ped_corr  \\\n",
      "0            0        0  203   99         0        0     0          0.0   \n",
      "1            0        1  173  109         0        1     0          0.0   \n",
      "2            0        2  130  104         0        2     0          0.0   \n",
      "3            0        3  102  120         0        3     0          0.0   \n",
      "4            0        4  139  108         0        4     0          0.0   \n",
      "...        ...      ...  ...  ...       ...      ...   ...          ...   \n",
      "2032507   5292      379  131  121         5       59     5          0.0   \n",
      "2032508   5292      380  173  109         5       60     5          0.0   \n",
      "2032509   5292      381  180  125         5       61     5          0.0   \n",
      "2032510   5292      382  110  104         5       62     5          0.0   \n",
      "2032511   5292      383  122  102         5       63     5          0.0   \n",
      "\n",
      "         LG_ped_corr      x      y        z  layer  layer_ch  \n",
      "0                0.0  -85.4  -85.4    0.000    0.0       0.0  \n",
      "1                0.0  -36.6  -85.4    0.000    0.0       1.0  \n",
      "2                0.0   12.2  -85.4    0.000    0.0       2.0  \n",
      "3                0.0   61.0  -85.4    0.000    0.0       3.0  \n",
      "4                0.0  109.8  -85.4    0.000    0.0       4.0  \n",
      "...              ...    ...    ...      ...    ...       ...  \n",
      "2032507          0.0   12.2  109.8  379.568   14.0      22.0  \n",
      "2032508          0.0   61.0  109.8  379.568   14.0      23.0  \n",
      "2032509          0.0  109.8  109.8  379.568   14.0      24.0  \n",
      "2032510          0.0    NaN    NaN      NaN    NaN       NaN  \n",
      "2032511          0.0    NaN    NaN      NaN    NaN       NaN  \n",
      "\n",
      "[2032512 rows x 14 columns]\n"
     ]
    }
   ],
   "source": [
    "print(merged_df)"
   ]
  },
  {
   "cell_type": "code",
   "execution_count": 5,
   "id": "1387ab7f",
   "metadata": {},
   "outputs": [],
   "source": [
    "with open('1-63-60-beam_DF.pkl', 'wb') as f:\n",
    "    pickle.dump(merged_df, f)"
   ]
  },
  {
   "cell_type": "code",
   "execution_count": null,
   "id": "4caa587e-a565-4872-b2cd-a2ae084d9bb5",
   "metadata": {},
   "outputs": [],
   "source": []
  }
 ],
 "metadata": {
  "kernelspec": {
   "display_name": "Python 3 (ipykernel)",
   "language": "python",
   "name": "python3"
  },
  "language_info": {
   "codemirror_mode": {
    "name": "ipython",
    "version": 3
   },
   "file_extension": ".py",
   "mimetype": "text/x-python",
   "name": "python",
   "nbconvert_exporter": "python",
   "pygments_lexer": "ipython3",
   "version": "3.12.7"
  }
 },
 "nbformat": 4,
 "nbformat_minor": 5
}
