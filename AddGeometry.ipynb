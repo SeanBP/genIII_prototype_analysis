{
 "cells": [
  {
   "cell_type": "code",
   "execution_count": 6,
   "id": "1494113f",
   "metadata": {},
   "outputs": [],
   "source": [
    "import os\n",
    "import numpy as np\n",
    "import pandas as pd\n",
    "import matplotlib.pyplot as plt\n",
    "import mplhep as hep\n",
    "from iminuit import Minuit\n",
    "from iminuit.cost import LeastSquares\n",
    "import pickle\n",
    "import uproot as ur\n",
    "import re"
   ]
  },
  {
   "cell_type": "code",
   "execution_count": 7,
   "id": "e574e431",
   "metadata": {},
   "outputs": [],
   "source": [
    "raw_df = pd.read_pickle(\"BNLCosmic3_DF.pkl\")\n",
    "geo_df = pd.read_pickle(\"geometry_DF.pkl\")"
   ]
  },
  {
   "cell_type": "code",
   "execution_count": 8,
   "id": "abb798fb",
   "metadata": {},
   "outputs": [],
   "source": [
    "# Merge on the 'channel' column\n",
    "merged_df = pd.merge(\n",
    "    raw_df,\n",
    "    geo_df[[\"channel\", \"x\", \"y\", \"z\", \"layer\", \"layer_ch\"]],\n",
    "    on=\"channel\",\n",
    "    how=\"left\"  # Keep all rows from raw_df\n",
    ")"
   ]
  },
  {
   "cell_type": "code",
   "execution_count": 4,
   "id": "29010d56",
   "metadata": {},
   "outputs": [
    {
     "name": "stdout",
     "output_type": "stream",
     "text": [
      "     event  channel    HG   LG  CAEN_brd  CAEN_ch  CAEN  HG_ped_corr  \\\n",
      "0        0        0  4946  657         0        0     0  4733.677132   \n",
      "1        0        1  5148  611         0        1     0  4900.594174   \n",
      "2        0        2  4163  577         0        2     0  3848.476689   \n",
      "3        0        3  4205  683         0        3     0  3914.650164   \n",
      "4        0        4  5081  704         0        4     0  4813.549793   \n",
      "..     ...      ...   ...  ...       ...      ...   ...          ...   \n",
      "571      0      571   245   82         8       59     8   155.087563   \n",
      "572      0      572   375   76         8       60     8   285.211544   \n",
      "573      0      573   246   82         8       61     8   154.196192   \n",
      "574      0      574   377   95         8       62     8   288.412770   \n",
      "575      0      575   450   90         8       63     8   356.270018   \n",
      "\n",
      "     LG_ped_corr      x     y        z  layer  layer_ch  \n",
      "0     540.864238  -85.4 -85.4    0.000    0.0       0.0  \n",
      "1     496.689769  -36.6 -85.4    0.000    0.0       1.0  \n",
      "2     467.307158   12.2 -85.4    0.000    0.0       2.0  \n",
      "3     570.635845   61.0 -85.4    0.000    0.0       3.0  \n",
      "4     595.627082  109.8 -85.4    0.000    0.0       4.0  \n",
      "..           ...    ...   ...      ...    ...       ...  \n",
      "571     0.000000  109.8 -36.6  650.688   24.0       9.0  \n",
      "572     0.000000  -85.4  12.2  650.688   24.0      10.0  \n",
      "573     0.000000  -36.6  12.2  650.688   24.0      11.0  \n",
      "574     0.000000   12.2  12.2  650.688   24.0      12.0  \n",
      "575     0.000000    NaN   NaN      NaN    NaN       NaN  \n",
      "\n",
      "[576 rows x 14 columns]\n"
     ]
    }
   ],
   "source": [
    "print(merged_df)"
   ]
  },
  {
   "cell_type": "code",
   "execution_count": 9,
   "id": "1387ab7f",
   "metadata": {},
   "outputs": [],
   "source": [
    "with open('BNLCosmic3_DF.pkl', 'wb') as f:\n",
    "    pickle.dump(merged_df, f)"
   ]
  },
  {
   "cell_type": "code",
   "execution_count": null,
   "id": "4caa587e-a565-4872-b2cd-a2ae084d9bb5",
   "metadata": {},
   "outputs": [],
   "source": []
  }
 ],
 "metadata": {
  "kernelspec": {
   "display_name": "Python 3 (ipykernel)",
   "language": "python",
   "name": "python3"
  },
  "language_info": {
   "codemirror_mode": {
    "name": "ipython",
    "version": 3
   },
   "file_extension": ".py",
   "mimetype": "text/x-python",
   "name": "python",
   "nbconvert_exporter": "python",
   "pygments_lexer": "ipython3",
   "version": "3.12.7"
  }
 },
 "nbformat": 4,
 "nbformat_minor": 5
}
