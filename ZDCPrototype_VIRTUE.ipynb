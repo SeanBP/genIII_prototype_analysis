{
 "cells": [
  {
   "cell_type": "code",
   "execution_count": 1,
   "id": "98bee86f",
   "metadata": {},
   "outputs": [],
   "source": [
    "import json"
   ]
  },
  {
   "cell_type": "code",
   "execution_count": 7,
   "id": "570d4bd1",
   "metadata": {},
   "outputs": [],
   "source": [
    "header = {\n",
    "    \"version\": \"2.2.0\",\n",
    "    \"detector\": \"ZDC\",\n",
    "    \"length_unit\": \"cm\",\n",
    "}\n",
    "\n",
    "data = {\n",
    "    \"header\": header,\n",
    "    \"components\": []\n",
    "}"
   ]
  },
  {
   "cell_type": "code",
   "execution_count": 8,
   "id": "3e4ad9c5",
   "metadata": {},
   "outputs": [],
   "source": [
    "for i in range(15):\n",
    "    component = {\n",
    "            \"type\": \"block\",\n",
    "            \"name\": f\"Layer {i}\",\n",
    "            \"position\": [\n",
    "                0,\n",
    "                0, \n",
    "                (i*27.112) + 14.356\n",
    "            ],\n",
    "            \"size\": [268.4, 268.4, 20], \n",
    "            \"color_rgba\": [0.5, 0.5, 0.5, 0.2]\n",
    "        }\n",
    "    data[\"components\"].append(component)"
   ]
  },
  {
   "cell_type": "code",
   "execution_count": 9,
   "id": "13d1ddd3",
   "metadata": {},
   "outputs": [],
   "source": [
    "with open('ZDC_Prototype.json', 'w') as f:\n",
    "    json.dump(data, f, indent=4)"
   ]
  },
  {
   "cell_type": "code",
   "execution_count": null,
   "id": "c533eee8",
   "metadata": {},
   "outputs": [],
   "source": []
  }
 ],
 "metadata": {
  "kernelspec": {
   "display_name": "Python 3.10 (myenv)",
   "language": "python",
   "name": "myenv"
  },
  "language_info": {
   "codemirror_mode": {
    "name": "ipython",
    "version": 3
   },
   "file_extension": ".py",
   "mimetype": "text/x-python",
   "name": "python",
   "nbconvert_exporter": "python",
   "pygments_lexer": "ipython3",
   "version": "3.7.6"
  }
 },
 "nbformat": 4,
 "nbformat_minor": 5
}
