{
 "cells": [
  {
   "cell_type": "code",
   "execution_count": 8,
   "id": "0b8d79b9",
   "metadata": {},
   "outputs": [],
   "source": [
    "import os\n",
    "import numpy as np\n",
    "import pandas as pd\n",
    "import matplotlib.pyplot as plt\n",
    "import mplhep as hep\n",
    "from iminuit import Minuit\n",
    "from iminuit.cost import LeastSquares\n",
    "import pickle\n",
    "import uproot as ur\n",
    "import re"
   ]
  },
  {
   "cell_type": "code",
   "execution_count": 9,
   "id": "113ae505",
   "metadata": {},
   "outputs": [],
   "source": [
    "input_file = f\"../../genIII_data/Sim/e+_2.5_12.5.edm4hep.root\"\n",
    "\n",
    "events = ur.open(\"%s:events\"%(input_file))\n",
    "\n",
    "with open(\"sim_geometry_12.5.pkl\", 'rb') as file:\n",
    "    sim_geometry = pickle.load(file)\n",
    "    \n",
    "\n",
    "even_ch_map = sim_geometry[\"even_ch_map\"]\n",
    "odd_ch_map = sim_geometry[\"odd_ch_map\"]\n",
    "z_to_layer_map = sim_geometry[\"z_to_layer_map\"]"
   ]
  },
  {
   "cell_type": "code",
   "execution_count": 10,
   "id": "733f184c",
   "metadata": {},
   "outputs": [
    {
     "name": "stdout",
     "output_type": "stream",
     "text": [
      "{(-109.8, -109.8): 0, (-61.0, -109.8): 1, (-12.2, -109.8): 2, (36.6, -109.8): 3, (85.4, -109.8): 4, (-109.8, -61.0): 5, (-61.0, -61.0): 6, (-12.2, -61.0): 7, (36.6, -61.0): 8, (85.4, -61.0): 9, (-109.8, -12.2): 10, (-61.0, -12.2): 11, (-12.2, -12.2): 12, (36.6, -12.2): 13, (85.4, -12.2): 14, (-109.8, 36.6): 15, (-61.0, 36.6): 16, (-12.2, 36.6): 17, (36.6, 36.6): 18, (85.4, 36.6): 19, (-109.8, 85.4): 20, (-61.0, 85.4): 21, (-12.2, 85.4): 22, (36.6, 85.4): 23, (85.4, 85.4): 24}\n",
      "{(-85.4, -109.8): 0, (-36.6, -109.8): 1, (12.2, -109.8): 2, (61.0, -109.8): 3, (85.4, -109.8): 4, (109.8, -109.8): 5, (-85.4, -85.4): 6, (-36.6, -85.4): 7, (12.2, -85.4): 8, (61.0, -85.4): 9, (85.4, -85.4): 10, (109.8, -85.4): 11, (-85.4, -36.6): 12, (-36.6, -36.6): 13, (12.2, -36.6): 14, (61.0, -36.6): 15, (85.4, -36.6): 16, (109.8, -36.6): 17, (-85.4, 12.2): 18, (-36.6, 12.2): 19, (12.2, 12.2): 20, (61.0, 12.2): 21, (85.4, 12.2): 22, (109.8, 12.2): 23, (-85.4, 61.0): 24, (-36.6, 61.0): 25, (12.2, 61.0): 26, (61.0, 61.0): 27, (85.4, 61.0): 28, (109.8, 61.0): 29, (-85.4, 109.8): 30, (-36.6, 109.8): 31, (12.2, 109.8): 32, (61.0, 109.8): 33, (85.4, 109.8): 34, (109.8, 109.8): 35}\n"
     ]
    }
   ],
   "source": [
    "print(even_ch_map)\n",
    "print(odd_ch_map)"
   ]
  },
  {
   "cell_type": "code",
   "execution_count": 11,
   "id": "effb6d06",
   "metadata": {},
   "outputs": [
    {
     "name": "stdout",
     "output_type": "stream",
     "text": [
      "0.0\n",
      "2.0\n",
      "4.0\n",
      "6.0\n",
      "8.0\n",
      "10.0\n",
      "12.0\n",
      "14.0\n",
      "16.0\n",
      "18.0\n",
      "20.0\n",
      "22.0\n",
      "24.0\n",
      "26.0\n",
      "28.0\n",
      "30.0\n",
      "32.0\n",
      "34.0\n",
      "36.0\n",
      "38.0\n",
      "40.0\n",
      "42.0\n",
      "44.0\n",
      "46.0\n",
      "48.0\n",
      "50.0\n",
      "52.0\n",
      "54.0\n",
      "56.0\n",
      "58.0\n",
      "60.0\n",
      "62.0\n",
      "64.0\n",
      "66.0\n",
      "68.0\n",
      "70.0\n",
      "72.0\n",
      "74.0\n",
      "76.0\n",
      "78.0\n",
      "80.0\n",
      "82.0\n",
      "84.0\n",
      "86.0\n",
      "88.0\n",
      "90.0\n",
      "92.0\n",
      "94.0\n",
      "96.0\n",
      "98.0\n"
     ]
    }
   ],
   "source": [
    "num_evts = len(np.array(events[\"HcalFarForwardZDCHits\"][\"HcalFarForwardZDCHits.energy\"]))\n",
    "all_event_energies = []\n",
    "\n",
    "for evt in range(num_evts):\n",
    "    if evt % 100 == 0:\n",
    "        print(100 * evt / num_evts)\n",
    "    evt_energies = []\n",
    "\n",
    "    energies = np.array(events[\"HcalFarForwardZDCHits\"][\"HcalFarForwardZDCHits.energy\"])[evt]\n",
    "    x_pos    = np.array(events[\"HcalFarForwardZDCHits\"][\"HcalFarForwardZDCHits.position.x\"])[evt]\n",
    "    y_pos    = np.array(events[\"HcalFarForwardZDCHits\"][\"HcalFarForwardZDCHits.position.y\"])[evt]\n",
    "    z_pos    = np.array(events[\"HcalFarForwardZDCHits\"][\"HcalFarForwardZDCHits.position.z\"])[evt]\n",
    "\n",
    "    # Get layer numbers for each hit\n",
    "    layers = np.array([z_to_layer_map[z] for z in z_pos])\n",
    "\n",
    "    for layer in range(15):\n",
    "        # Select channel map based on even/odd layer\n",
    "        ch_map = even_ch_map if layer % 2 == 0 else odd_ch_map\n",
    "\n",
    "        for ch in range(25):\n",
    "            # Find (x, y) pair for this channel\n",
    "            try:\n",
    "                xy_lookup = [k for k, v in ch_map.items() if v == ch][0]  # (x, y)\n",
    "            except IndexError:\n",
    "                # If this channel index doesn't exist in the map, append 0\n",
    "                evt_energies.append(0)\n",
    "                continue\n",
    "\n",
    "            # Mask for hits at this layer and this (x, y) position\n",
    "            mask = (layers == layer) & (x_pos == xy_lookup[0]) & (y_pos == xy_lookup[1])\n",
    "            \n",
    "            if np.any(mask):\n",
    "                # If there's a matching hit, get the energy (assume only one per channel)\n",
    "                energy = energies[mask][0]\n",
    "            else:\n",
    "                energy = 0\n",
    "\n",
    "            evt_energies.append(energy/0.000875127161931984)\n",
    "\n",
    "    all_event_energies.append(evt_energies)\n",
    "\n"
   ]
  },
  {
   "cell_type": "code",
   "execution_count": 12,
   "id": "fa04375f",
   "metadata": {},
   "outputs": [],
   "source": [
    "# Invert the channel maps: ch → (x, y)\n",
    "even_ch_to_xy = {v: k for k, v in even_ch_map.items()}\n",
    "odd_ch_to_xy  = {v: k for k, v in odd_ch_map.items()}\n",
    "\n",
    "# Invert the z-layer map: layer → z\n",
    "layer_to_z = {v: float(k) for k, v in z_to_layer_map.items()}\n",
    "\n",
    "positions = []\n",
    "\n",
    "for layer in range(15):\n",
    "    ch_map = even_ch_to_xy if layer % 2 == 0 else odd_ch_to_xy\n",
    "\n",
    "    for ch in range(25):\n",
    "        if ch in ch_map and layer in layer_to_z:\n",
    "            x, y = ch_map[ch]\n",
    "            z = layer_to_z[layer]\n",
    "        else:\n",
    "            x, y, z = None, None, None\n",
    "        #positions.append([x, y, z-5002.756, layer, ch])\n",
    "        positions.append([x, y, z, layer, ch])\n"
   ]
  },
  {
   "cell_type": "code",
   "execution_count": 13,
   "id": "8a846dc8",
   "metadata": {},
   "outputs": [],
   "source": [
    "sim_data = {\n",
    "    'positions': np.array(positions),\n",
    "    'events': np.array(all_event_energies, dtype=object)\n",
    "}"
   ]
  },
  {
   "cell_type": "code",
   "execution_count": 14,
   "id": "04741d0f",
   "metadata": {},
   "outputs": [],
   "source": [
    "with open('../../genIII_data/Sim/e+_2.5_12.5.pkl', 'wb') as f:\n",
    "    pickle.dump(sim_data, f)"
   ]
  },
  {
   "cell_type": "code",
   "execution_count": null,
   "id": "fc997d5b",
   "metadata": {},
   "outputs": [],
   "source": []
  }
 ],
 "metadata": {
  "kernelspec": {
   "display_name": "Python 3.10 (myenv)",
   "language": "python",
   "name": "myenv"
  },
  "language_info": {
   "codemirror_mode": {
    "name": "ipython",
    "version": 3
   },
   "file_extension": ".py",
   "mimetype": "text/x-python",
   "name": "python",
   "nbconvert_exporter": "python",
   "pygments_lexer": "ipython3",
   "version": "3.7.6"
  }
 },
 "nbformat": 4,
 "nbformat_minor": 5
}
